{
  "nbformat": 4,
  "nbformat_minor": 0,
  "metadata": {
    "colab": {
      "provenance": []
    },
    "kernelspec": {
      "name": "python3",
      "display_name": "Python 3"
    },
    "language_info": {
      "name": "python"
    }
  },
  "cells": [
    {
      "cell_type": "code",
      "execution_count": 1,
      "metadata": {
        "id": "59GDdmNm-Pu9"
      },
      "outputs": [],
      "source": [
        "from pyspark.sql import SparkSession\n",
        "from pyspark.sql.functions import col, expr"
      ]
    },
    {
      "cell_type": "code",
      "source": [
        "spark = SparkSession.builder \\\n",
        "    .appName(\"TotalRevenuePerContinent\") \\\n",
        "    .getOrCreate()"
      ],
      "metadata": {
        "id": "iyNtrH9V-nVI"
      },
      "execution_count": 2,
      "outputs": []
    },
    {
      "cell_type": "code",
      "source": [],
      "metadata": {
        "id": "I2HccO5s_Z-i"
      },
      "execution_count": null,
      "outputs": []
    },
    {
      "cell_type": "code",
      "source": [
        "df = spark.read.option(\"header\", True).csv(\"/content/sales_data\", inferSchema=True)"
      ],
      "metadata": {
        "id": "2pnvSatF-r6W"
      },
      "execution_count": 9,
      "outputs": []
    },
    {
      "cell_type": "code",
      "source": [
        "df = df.withColumn(\"Revenue\", col(\"Units_Sold\") * col(\"Unit_Price\"))"
      ],
      "metadata": {
        "id": "ozDzvqlY-xKZ"
      },
      "execution_count": 11,
      "outputs": []
    },
    {
      "cell_type": "code",
      "source": [
        "country_to_continent = {\n",
        "    \"USA\": \"North America\",\n",
        "    \"Canada\": \"North America\",\n",
        "    \"Brazil\": \"South America\",\n",
        "    \"Germany\": \"Europe\",\n",
        "    \"India\": \"Asia\",\n",
        "    \"China\": \"Asia\",\n",
        "    \"South Africa\": \"Africa\",\n",
        "    \"Australia\": \"Oceania\",\n",
        "\n",
        "}"
      ],
      "metadata": {
        "id": "m8syR7UN-75P"
      },
      "execution_count": 12,
      "outputs": []
    },
    {
      "cell_type": "code",
      "source": [
        "mapping_df = spark.createDataFrame(country_to_continent.items(), [\"Country\", \"Continent\"])"
      ],
      "metadata": {
        "id": "vIfOGnh2_tTB"
      },
      "execution_count": 13,
      "outputs": []
    },
    {
      "cell_type": "code",
      "source": [
        "df = df.join(mapping_df, on=\"Country\", how=\"left\")"
      ],
      "metadata": {
        "id": "4Fsc6KIP_xhd"
      },
      "execution_count": 14,
      "outputs": []
    },
    {
      "cell_type": "code",
      "source": [
        "revenue_by_continent = df.groupBy(\"Continent\").sum(\"Revenue\")"
      ],
      "metadata": {
        "id": "2Sy-DLCQAQYJ"
      },
      "execution_count": 15,
      "outputs": []
    },
    {
      "cell_type": "code",
      "source": [
        "revenue_by_continent = revenue_by_continent.withColumnRenamed(\"sum(Revenue)\", \"Total_Revenue\")"
      ],
      "metadata": {
        "id": "0k22AsxlAVED"
      },
      "execution_count": 16,
      "outputs": []
    },
    {
      "cell_type": "code",
      "source": [
        "revenue_by_continent.show()"
      ],
      "metadata": {
        "colab": {
          "base_uri": "https://localhost:8080/"
        },
        "id": "4sTicUZFAZNh",
        "outputId": "0390e4bc-71fb-4442-e842-b8e304039ba0"
      },
      "execution_count": 17,
      "outputs": [
        {
          "output_type": "stream",
          "name": "stdout",
          "text": [
            "+-------------+------------------+\n",
            "|    Continent|     Total_Revenue|\n",
            "+-------------+------------------+\n",
            "|       Europe|309392.67000000004|\n",
            "|         NULL|        1268108.55|\n",
            "|North America|          248430.1|\n",
            "|South America|          210688.0|\n",
            "|      Oceania|         343411.91|\n",
            "|         Asia|         441748.94|\n",
            "+-------------+------------------+\n",
            "\n"
          ]
        }
      ]
    },
    {
      "cell_type": "code",
      "source": [],
      "metadata": {
        "id": "2dUvlmiIAcBC"
      },
      "execution_count": null,
      "outputs": []
    }
  ]
}
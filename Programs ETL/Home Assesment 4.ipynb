{
 "cells": [
  {
   "cell_type": "code",
   "execution_count": 4,
   "id": "16f5098f-5c6b-4ee1-8fc9-0032a9ae2d62",
   "metadata": {},
   "outputs": [
    {
     "data": {
      "text/plain": [
       "CompletedProcess(args=['tshark', '-v'], returncode=0)"
      ]
     },
     "execution_count": 4,
     "metadata": {},
     "output_type": "execute_result"
    }
   ],
   "source": [
    "import subprocess\n",
    "subprocess.run(['tshark', '-v'])\n"
   ]
  },
  {
   "cell_type": "code",
   "execution_count": 6,
   "id": "17c5455c-02ba-4755-8b4e-c7a11bf93c0a",
   "metadata": {},
   "outputs": [
    {
     "name": "stdout",
     "output_type": "stream",
     "text": [
      "\n",
      " Processing File: pcap f11.pcapng\n",
      "============================================================\n",
      "Number | Length | Protocol | Info\n",
      "1\t75\tSSL\t\n",
      "2\t86\tTCP\t443 â†’ 51593 [ACK] Seq=1 Ack=2 Win=100 Len=0 SLE=1 SRE=2\n",
      "3\t1354\tSSL\t\n",
      "4\t185\tTLSv1.2\tApplication Data\n",
      "5\t1354\tTLSv1.2\n",
      "\n",
      " Processing File: pcapf2.pcapng\n",
      "============================================================\n",
      "Number | Length | Protocol | Info\n",
      "1\t140\tUDP\t443 â†’ 62159 Len=78\n",
      "2\t84\tUDP\t443 â†’ 62159 Len=22\n",
      "3\t140\tUDP\t443 â†’ 62159 Len=78\n",
      "4\t96\tUDP\t62159 â†’ 443 Len=34\n",
      "5\t307\tUDP\t59693 â†’ 443 Len=245\n"
     ]
    }
   ],
   "source": [
    "import os\n",
    "import subprocess\n",
    "\n",
    "pcap_folder = r\"C:\\Users\\Sakthi\\Downloads\\data sales\"\n",
    "pcap_files = [f for f in os.listdir(pcap_folder) if f.endswith(('.pcap', '.pcapng'))]\n",
    "\n",
    "for filename in pcap_files:\n",
    "    full_path = os.path.join(pcap_folder, filename)\n",
    "    print(f\"\\n Processing File: {filename}\")\n",
    "    print(\"=\" * 60)\n",
    "\n",
    "    try:\n",
    "        result = subprocess.run(\n",
    "            [\n",
    "                'tshark',\n",
    "                '-r', full_path,\n",
    "                '-c', '5',  # Only first 5 packets\n",
    "                '-T', 'fields',\n",
    "                '-e', 'frame.number',\n",
    "                '-e', 'frame.len',\n",
    "                '-e', '_ws.col.Protocol',\n",
    "                '-e', '_ws.col.Info'\n",
    "            ],\n",
    "            capture_output=True,\n",
    "            text=True\n",
    "        )\n",
    "\n",
    "        if result.returncode == 0:\n",
    "            print(\"Number | Length | Protocol | Info\")\n",
    "            print(result.stdout.strip())\n",
    "        else:\n",
    "            print(\" tshark error:\", result.stderr)\n",
    "\n",
    "    except FileNotFoundError:\n",
    "        print(\"tshark is not installed or not in PATH.\")\n"
   ]
  },
  {
   "cell_type": "code",
   "execution_count": 9,
   "id": "1163f6e9-d8c9-4f86-a433-49c2887f4d3f",
   "metadata": {},
   "outputs": [
    {
     "name": "stdout",
     "output_type": "stream",
     "text": [
      "\n",
      " Top 5 Source IPs:\n",
      "213.186.33.17: 82 packets\n",
      "10.186.27.162: 71 packets\n",
      "45.33.87.127: 29 packets\n",
      "125.56.219.17: 29 packets\n",
      "172.64.147.34: 18 packets\n"
     ]
    }
   ],
   "source": [
    "import os\n",
    "import subprocess\n",
    "from collections import Counter\n",
    "pcap_path = r\"C:\\Users\\Sakthi\\Downloads\\data sales\\pcapf2.pcapng\"\n",
    "\n",
    "\n",
    "cmd = [\n",
    "    'tshark',\n",
    "    '-r', pcap_path,\n",
    "    '-T', 'fields',\n",
    "    '-e', 'ip.src',\n",
    "    '-Y', 'ip'  # Filter only IP packets\n",
    "]\n",
    "\n",
    "result = subprocess.run(cmd, capture_output=True, text=True)\n",
    "\n",
    "if result.returncode != 0:\n",
    "    print(\" Error running tshark:\", result.stderr)\n",
    "else:\n",
    "    src_ips = result.stdout.strip().split('\\n')\n",
    "    ip_counter = Counter(src_ips)\n",
    "\n",
    "    # Show top 5 source IPs\n",
    "    print(\"\\n Top 5 Source IPs:\")\n",
    "    for ip, count in ip_counter.most_common(5):\n",
    "        print(f\"{ip}: {count} packets\")\n"
   ]
  },
  {
   "cell_type": "code",
   "execution_count": 12,
   "id": "5e377935-7370-4756-8e55-97dd9208cc14",
   "metadata": {},
   "outputs": [
    {
     "name": "stdout",
     "output_type": "stream",
     "text": [
      " Visited URLs:\n",
      "==================================================\n"
     ]
    }
   ],
   "source": [
    "import subprocess\n",
    "\n",
    "pcap_path = r\"C:\\Users\\Sakthi\\Downloads\\data sales\\pcapf2.pcapng\"\n",
    "\n",
    "\n",
    "cmd = [\n",
    "    'tshark',\n",
    "    '-r', pcap_path,\n",
    "    '-Y', 'http.request',\n",
    "    '-T', 'fields',\n",
    "    '-e', 'http.host',\n",
    "    '-e', 'http.request.uri'\n",
    "]\n",
    "\n",
    "result = subprocess.run(cmd, capture_output=True, text=True)\n",
    "\n",
    "if result.returncode != 0:\n",
    "    print(\" Error running tshark:\", result.stderr)\n",
    "else:\n",
    "    print(\" Visited URLs:\")\n",
    "    print(\"=\" * 50)\n",
    "    for line in result.stdout.strip().split('\\n'):\n",
    "        if '\\t' in line:\n",
    "            host, uri = line.split('\\t', 1)\n",
    "            full_url = f\"http://{host}{uri}\"\n",
    "            print(f\"Host    : {host}\")\n",
    "            print(f\"URI     : {uri}\")\n",
    "            print(f\"Full URL: {full_url}\")\n",
    "            print(\"-\" * 50)\n",
    "\n"
   ]
  },
  {
   "cell_type": "code",
   "execution_count": 13,
   "id": "ff06641c-b9bb-4a26-81ac-5bf4059e5630",
   "metadata": {},
   "outputs": [
    {
     "name": "stdout",
     "output_type": "stream",
     "text": [
      " Error running tshark: tshark: Some fields aren't valid:\n",
      "\tdns.qry_name\n",
      "\n"
     ]
    }
   ],
   "source": [
    "import subprocess\n",
    "from collections import Counter\n",
    "\n",
    "pcap_path = r\"C:\\Users\\Sakthi\\Downloads\\data sales\\pcapf2.pcapng\"\n",
    "\n",
    "cmd = [\n",
    "    'tshark',\n",
    "    '-r', pcap_path,\n",
    "    '-Y', 'dns',\n",
    "    '-T', 'fields',\n",
    "    '-e', 'dns.qry_name'\n",
    "]\n",
    "\n",
    "result = subprocess.run(cmd, capture_output=True, text=True)\n",
    "\n",
    "if result.returncode != 0:\n",
    "    print(\" Error running tshark:\", result.stderr)\n",
    "else:\n",
    "    domains = result.stdout.strip().split('\\n')\n",
    "    domain_counts = Counter(domain.strip() for domain in domains if domain.strip())\n",
    "\n",
    "    print(\" Top 10 Most Queried Domains:\")\n",
    "    print(\"=\" * 50)\n",
    "    for domain, count in domain_counts.most_common(10):\n",
    "        print(f\"{domain}: {count} queries\")\n"
   ]
  },
  {
   "cell_type": "code",
   "execution_count": 14,
   "id": "a7af1ce8-5bcc-4300-9865-94d1e3c33a68",
   "metadata": {},
   "outputs": [
    {
     "name": "stdout",
     "output_type": "stream",
     "text": [
      "📡 Starting Live Capture on interface: Wi-Fi\n",
      "❌ Error: Cannot run the event loop while another loop is running\n"
     ]
    },
    {
     "name": "stderr",
     "output_type": "stream",
     "text": [
      "C:\\Users\\Sakthi\\AppData\\Local\\Temp\\ipykernel_23188\\824252639.py:39: RuntimeWarning: coroutine 'LiveCapture._get_tshark_process' was never awaited\n",
      "  print(f\"❌ Error: {e}\")\n",
      "RuntimeWarning: Enable tracemalloc to get the object allocation traceback\n"
     ]
    },
    {
     "ename": "RuntimeError",
     "evalue": "Cannot run the event loop while another loop is running",
     "output_type": "error",
     "traceback": [
      "\u001b[31m---------------------------------------------------------------------------\u001b[39m",
      "\u001b[31mRuntimeError\u001b[39m                              Traceback (most recent call last)",
      "\u001b[36mCell\u001b[39m\u001b[36m \u001b[39m\u001b[32mIn[14]\u001b[39m\u001b[32m, line 41\u001b[39m\n\u001b[32m     39\u001b[39m     \u001b[38;5;28mprint\u001b[39m(\u001b[33mf\u001b[39m\u001b[33m\"\u001b[39m\u001b[33m❌ Error: \u001b[39m\u001b[38;5;132;01m{\u001b[39;00me\u001b[38;5;132;01m}\u001b[39;00m\u001b[33m\"\u001b[39m)\n\u001b[32m     40\u001b[39m \u001b[38;5;28;01mfinally\u001b[39;00m:\n\u001b[32m---> \u001b[39m\u001b[32m41\u001b[39m     \u001b[43mcapture\u001b[49m\u001b[43m.\u001b[49m\u001b[43mclose\u001b[49m\u001b[43m(\u001b[49m\u001b[43m)\u001b[49m\n\u001b[32m     42\u001b[39m     \u001b[38;5;28mprint\u001b[39m(\u001b[33m\"\u001b[39m\u001b[33m✅ Capture complete.\u001b[39m\u001b[33m\"\u001b[39m)\n",
      "\u001b[36mFile \u001b[39m\u001b[32m~\\AppData\\Local\\Packages\\PythonSoftwareFoundation.Python.3.11_qbz5n2kfra8p0\\LocalCache\\local-packages\\Python311\\site-packages\\pyshark\\capture\\capture.py:393\u001b[39m, in \u001b[36mCapture.close\u001b[39m\u001b[34m(self)\u001b[39m\n\u001b[32m    392\u001b[39m \u001b[38;5;28;01mdef\u001b[39;00m\u001b[38;5;250m \u001b[39m\u001b[34mclose\u001b[39m(\u001b[38;5;28mself\u001b[39m):\n\u001b[32m--> \u001b[39m\u001b[32m393\u001b[39m     \u001b[38;5;28;43mself\u001b[39;49m\u001b[43m.\u001b[49m\u001b[43meventloop\u001b[49m\u001b[43m.\u001b[49m\u001b[43mrun_until_complete\u001b[49m\u001b[43m(\u001b[49m\u001b[38;5;28;43mself\u001b[39;49m\u001b[43m.\u001b[49m\u001b[43mclose_async\u001b[49m\u001b[43m(\u001b[49m\u001b[43m)\u001b[49m\u001b[43m)\u001b[49m\n",
      "\u001b[36mFile \u001b[39m\u001b[32m~\\miniconda3\\Lib\\asyncio\\base_events.py:630\u001b[39m, in \u001b[36mBaseEventLoop.run_until_complete\u001b[39m\u001b[34m(self, future)\u001b[39m\n\u001b[32m    619\u001b[39m \u001b[38;5;250m\u001b[39m\u001b[33;03m\"\"\"Run until the Future is done.\u001b[39;00m\n\u001b[32m    620\u001b[39m \n\u001b[32m    621\u001b[39m \u001b[33;03mIf the argument is a coroutine, it is wrapped in a Task.\u001b[39;00m\n\u001b[32m   (...)\u001b[39m\u001b[32m    627\u001b[39m \u001b[33;03mReturn the Future's result, or raise its exception.\u001b[39;00m\n\u001b[32m    628\u001b[39m \u001b[33;03m\"\"\"\u001b[39;00m\n\u001b[32m    629\u001b[39m \u001b[38;5;28mself\u001b[39m._check_closed()\n\u001b[32m--> \u001b[39m\u001b[32m630\u001b[39m \u001b[38;5;28;43mself\u001b[39;49m\u001b[43m.\u001b[49m\u001b[43m_check_running\u001b[49m\u001b[43m(\u001b[49m\u001b[43m)\u001b[49m\n\u001b[32m    632\u001b[39m new_task = \u001b[38;5;129;01mnot\u001b[39;00m futures.isfuture(future)\n\u001b[32m    633\u001b[39m future = tasks.ensure_future(future, loop=\u001b[38;5;28mself\u001b[39m)\n",
      "\u001b[36mFile \u001b[39m\u001b[32m~\\miniconda3\\Lib\\asyncio\\base_events.py:591\u001b[39m, in \u001b[36mBaseEventLoop._check_running\u001b[39m\u001b[34m(self)\u001b[39m\n\u001b[32m    589\u001b[39m     \u001b[38;5;28;01mraise\u001b[39;00m \u001b[38;5;167;01mRuntimeError\u001b[39;00m(\u001b[33m'\u001b[39m\u001b[33mThis event loop is already running\u001b[39m\u001b[33m'\u001b[39m)\n\u001b[32m    590\u001b[39m \u001b[38;5;28;01mif\u001b[39;00m events._get_running_loop() \u001b[38;5;129;01mis\u001b[39;00m \u001b[38;5;129;01mnot\u001b[39;00m \u001b[38;5;28;01mNone\u001b[39;00m:\n\u001b[32m--> \u001b[39m\u001b[32m591\u001b[39m     \u001b[38;5;28;01mraise\u001b[39;00m \u001b[38;5;167;01mRuntimeError\u001b[39;00m(\n\u001b[32m    592\u001b[39m         \u001b[33m'\u001b[39m\u001b[33mCannot run the event loop while another loop is running\u001b[39m\u001b[33m'\u001b[39m)\n",
      "\u001b[31mRuntimeError\u001b[39m: Cannot run the event loop while another loop is running"
     ]
    }
   ],
   "source": [
    "import pyshark\n",
    "\n",
    "# Choose the correct network interface (change this if needed)\n",
    "# To find interface names: pyshark.LiveCapture().interfaces\n",
    "interface = 'Wi-Fi'  # or 'Ethernet', 'en0', etc.\n",
    "\n",
    "print(f\"📡 Starting Live Capture on interface: {interface}\")\n",
    "\n",
    "# Capture live packets on TCP port 80 (HTTP traffic)\n",
    "capture = pyshark.LiveCapture(interface=interface, display_filter='tcp.port == 80')\n",
    "\n",
    "packet_count = 0\n",
    "max_packets = 10\n",
    "\n",
    "try:\n",
    "    for packet in capture.sniff_continuously():\n",
    "        packet_count += 1\n",
    "        print(f\"\\n📦 Packet #{packet_count}\")\n",
    "        print(f\"▶ Source: {packet.ip.src}\")\n",
    "        print(f\"▶ Destination: {packet.ip.dst}\")\n",
    "        print(f\"▶ Protocol: {packet.transport_layer}\")\n",
    "        print(f\"▶ Length: {packet.length}\")\n",
    "        \n",
    "        if 'http' in packet:\n",
    "            try:\n",
    "                http_layer = packet.http\n",
    "                print(f\"🌐 HTTP Host: {http_layer.host}\")\n",
    "                print(f\"🌐 URI: {http_layer.request_uri}\")\n",
    "                print(f\"🌐 Full URL: http://{http_layer.host}{http_layer.request_uri}\")\n",
    "            except AttributeError:\n",
    "                print(\"HTTP packet, but missing fields.\")\n",
    "        \n",
    "        if packet_count >= max_packets:\n",
    "            break\n",
    "\n",
    "except KeyboardInterrupt:\n",
    "    print(\"✋ Capture interrupted.\")\n",
    "except Exception as e:\n",
    "    print(f\"❌ Error: {e}\")\n",
    "finally:\n",
    "    capture.close()\n",
    "    print(\"✅ Capture complete.\")\n"
   ]
  },
  {
   "cell_type": "code",
   "execution_count": null,
   "id": "7195f518-23df-4da5-a51f-dc0a0b62a3bc",
   "metadata": {},
   "outputs": [],
   "source": []
  }
 ],
 "metadata": {
  "kernelspec": {
   "display_name": "Python (my_env)",
   "language": "python",
   "name": "my_env"
  },
  "language_info": {
   "codemirror_mode": {
    "name": "ipython",
    "version": 3
   },
   "file_extension": ".py",
   "mimetype": "text/x-python",
   "name": "python",
   "nbconvert_exporter": "python",
   "pygments_lexer": "ipython3",
   "version": "3.11.11"
  }
 },
 "nbformat": 4,
 "nbformat_minor": 5
}

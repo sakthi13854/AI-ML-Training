{
 "cells": [
  {
   "cell_type": "code",
   "execution_count": 1,
   "id": "7125e201-159c-4927-a489-a4470d1fbc0a",
   "metadata": {},
   "outputs": [],
   "source": [
    "import pandas as pd\n",
    "import numpy as np"
   ]
  },
  {
   "cell_type": "code",
   "execution_count": 2,
   "id": "65a5b9e4-4720-48d2-b2bb-a3dc7ba6f801",
   "metadata": {},
   "outputs": [],
   "source": [
    "np.random.seed(42)\n",
    "#Create 30 employee IDs\n",
    "employee_ids = [f'EMP_{i:03d}' for i in range (1,31)]\n",
    "dates = pd. date_range('2025-07-01',periods=30, freq='D')"
   ]
  },
  {
   "cell_type": "code",
   "execution_count": 4,
   "id": "93947276-6565-40c0-9936-d772ffc19e76",
   "metadata": {},
   "outputs": [],
   "source": [
    "#Simulate working hours (between 4 and 10 hours/day)\n",
    "data = {\n",
    "\n",
    " 'Date': np.tile(dates, len(employee_ids)),\n",
    " 'Employee_ID' : np.repeat(employee_ids, len(dates)),\n",
    " 'Working_Hours': np.random.uniform(4, 10, size=len(dates)\n",
    "* len(employee_ids)).round(2)\n",
    "}\n"
   ]
  },
  {
   "cell_type": "code",
   "execution_count": 5,
   "id": "72079ba0-61a2-4054-9cdf-dca017cf82d0",
   "metadata": {},
   "outputs": [],
   "source": [
    "df = pd.DataFrame(data)\n",
    "#Save to CSV\n",
    "df.to_csv('employee_working_hours.csv', index=False)\n",
    "#Read from CSV\n",
    "df_csv = pd.read_csv('employee_working_hours.csv')"
   ]
  },
  {
   "cell_type": "code",
   "execution_count": 6,
   "id": "ed9b434d-4a78-4aa9-bbf6-072eb6c4e0bd",
   "metadata": {},
   "outputs": [
    {
     "name": "stdout",
     "output_type": "stream",
     "text": [
      "         Date Employee_ID  Working_Hours\n",
      "0  2025-07-01     EMP_001           6.25\n",
      "1  2025-07-02     EMP_001           9.70\n",
      "2  2025-07-03     EMP_001           8.39\n",
      "3  2025-07-04     EMP_001           7.59\n",
      "4  2025-07-05     EMP_001           4.94\n",
      "       Working_Hours\n",
      "count     900.000000\n",
      "mean        6.954233\n",
      "std         1.762088\n",
      "min         4.030000\n",
      "25%         5.387500\n",
      "50%         7.010000\n",
      "75%         8.490000\n",
      "max        10.000000\n",
      "30\n"
     ]
    }
   ],
   "source": [
    "print(df_csv.head())\n",
    "print(df_csv.describe())\n",
    "print(df_csv['Employee_ID'].nunique())"
   ]
  },
  {
   "cell_type": "code",
   "execution_count": 8,
   "id": "f98f6eea-4444-4373-a0f8-309c0b109908",
   "metadata": {},
   "outputs": [],
   "source": [
    "total_hours =df_csv.groupby('Employee_ID')['Working_Hours'].sum().sort_values(ascending=False)\n",
    "\n"
   ]
  },
  {
   "cell_type": "code",
   "execution_count": 9,
   "id": "af3f3e4f-039e-4f27-baad-22157a0a0af5",
   "metadata": {},
   "outputs": [],
   "source": [
    "avg_daily =df_csv.groupby('Employee_ID')['Working_Hours'].mean()\n"
   ]
  },
  {
   "cell_type": "code",
   "execution_count": 10,
   "id": "a9050531-ecfa-4fe4-9374-2d101cb31769",
   "metadata": {},
   "outputs": [],
   "source": [
    "threshold_low = 5\n",
    "threshold_high = 9"
   ]
  },
  {
   "cell_type": "code",
   "execution_count": 11,
   "id": "4c0aef65-3f20-4125-a545-3f3291981840",
   "metadata": {
    "scrolled": true
   },
   "outputs": [
    {
     "ename": "SyntaxError",
     "evalue": "invalid syntax (3031550456.py, line 1)",
     "output_type": "error",
     "traceback": [
      "  \u001b[36mCell\u001b[39m\u001b[36m \u001b[39m\u001b[32mIn[11]\u001b[39m\u001b[32m, line 1\u001b[39m\n\u001b[31m    \u001b[39m\u001b[31mdf_csv['Low_Hour_Flag'] = df_csv['Working_Hours'] <\u001b[39m\n                                                       ^\n\u001b[31mSyntaxError\u001b[39m\u001b[31m:\u001b[39m invalid syntax\n"
     ]
    }
   ],
   "source": [
    "df_csv['Low_Hour_Flag'] = df_csv['Working_Hours'] <threshold_low\n",
    "\n",
    "df_csv['High_Hour_Flag']=df_csv['Working_Hours'] >threshold_high\n"
   ]
  },
  {
   "cell_type": "code",
   "execution_count": null,
   "id": "d6045c83-bd90-4465-bde6-2d0e243618ef",
   "metadata": {},
   "outputs": [],
   "source": [
    "print(df_csv[df_csv['Low_Hour_Flag'] |\n",
    "df_csv['High_Hour_Flag']].head())"
   ]
  },
  {
   "cell_type": "code",
   "execution_count": null,
   "id": "6be3726c-5613-4449-9da2-02734652eaf3",
   "metadata": {},
   "outputs": [],
   "source": [
    "import matplotlib.pyplot as plt\n",
    "import seaborn as sns\n",
    "#Bar chart of top 10 employees with highest total hours\n",
    "top10 = total_hours.head(10)\n",
    "plt.figure(figsize=(10,5))\n",
    "sns.barplot(x=top10.index, y=top10.values)\n",
    "plt.xticks(rotation=45)\n",
    "plt.title('Top 10 Employees by Total working Hours')\n",
    "plt.ylabel('Hours')\n",
    "plt.tight_layout()\n",
    "plt.show()"
   ]
  },
  {
   "cell_type": "code",
   "execution_count": null,
   "id": "d7f1525c-fd68-4b83-8aec-9603a4c43c83",
   "metadata": {},
   "outputs": [],
   "source": []
  }
 ],
 "metadata": {
  "kernelspec": {
   "display_name": "Python (my_env)",
   "language": "python",
   "name": "my_env"
  },
  "language_info": {
   "codemirror_mode": {
    "name": "ipython",
    "version": 3
   },
   "file_extension": ".py",
   "mimetype": "text/x-python",
   "name": "python",
   "nbconvert_exporter": "python",
   "pygments_lexer": "ipython3",
   "version": "3.11.11"
  }
 },
 "nbformat": 4,
 "nbformat_minor": 5
}

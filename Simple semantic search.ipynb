{
 "cells": [
  {
   "cell_type": "code",
   "execution_count": 4,
   "id": "e24b8c61-bb07-4805-8871-c14294522e94",
   "metadata": {},
   "outputs": [],
   "source": [
    "from sentence_transformers import SentenceTransformer"
   ]
  },
  {
   "cell_type": "code",
   "execution_count": 5,
   "id": "a0f20019-f665-4b82-830f-c17d458722de",
   "metadata": {},
   "outputs": [],
   "source": [
    "from sklearn.metrics.pairwise import cosine_similarity\n",
    "import numpy as np"
   ]
  },
  {
   "cell_type": "code",
   "execution_count": 6,
   "id": "76b5dda0-d599-487b-b7c6-6258eec0be2f",
   "metadata": {},
   "outputs": [],
   "source": [
    "products = [\n",
    " \"Nike Running Shoes\",\n",
    " \"Adidas Sneakers\",\n",
    " \"Puma Sports T-shirt\",\n",
    " \"Apple iPhone 14\",\n",
    " \"Samsung Galaxy S23\",\n",
    " \"Sony Headphones\",\n",
    " \"Levi’s Jeans\",\n",
    " \"Under Armour Hoodie\",\n",
    "]"
   ]
  },
  {
   "cell_type": "code",
   "execution_count": 7,
   "id": "32f950b7-b586-49f0-92cd-10366e67275a",
   "metadata": {},
   "outputs": [],
   "source": [
    "model = SentenceTransformer(\"all-MiniLM-L6-v2\")\n",
    "# --- Step 3: Convert product names into embeddings ---\n",
    "product_embeddings = model.encode(products)"
   ]
  },
  {
   "cell_type": "code",
   "execution_count": null,
   "id": "596660b1-a2ef-40e0-b210-ee97b78fbd98",
   "metadata": {},
   "outputs": [],
   "source": [
    "def semantic_search(query, top_k=3):\n",
    " query_embedding = model.encode([query])\n",
    "\n",
    " # Compute cosine similarity\n",
    " similarities = cosine_similarity(query_embedding,\n",
    "product_embeddings)[0]\n",
    "\n",
    " # Get top_k most similar products\n",
    " top_indices = np.argsort(similarities)[::-1][:top_k]\n",
    "\n",
    " print(f\"\\n Query: {query}\\n\")\n",
    " for idx in top_indices:\n",
    " print(f\"{products[idx]} (score: {similarities[idx]:.2f})\")"
   ]
  }
 ],
 "metadata": {
  "kernelspec": {
   "display_name": "Python (my_env)",
   "language": "python",
   "name": "my_env"
  },
  "language_info": {
   "codemirror_mode": {
    "name": "ipython",
    "version": 3
   },
   "file_extension": ".py",
   "mimetype": "text/x-python",
   "name": "python",
   "nbconvert_exporter": "python",
   "pygments_lexer": "ipython3",
   "version": "3.11.11"
  }
 },
 "nbformat": 4,
 "nbformat_minor": 5
}

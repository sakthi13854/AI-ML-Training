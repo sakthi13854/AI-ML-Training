{
 "cells": [
  {
   "cell_type": "code",
   "execution_count": 2,
   "id": "cbc4f25e-a28c-45e6-9539-f0f0f7d53e2d",
   "metadata": {},
   "outputs": [],
   "source": [
    "import numpy as np"
   ]
  },
  {
   "cell_type": "code",
   "execution_count": 6,
   "id": "70bf176f-11b7-44fc-9aa3-88cb3262b914",
   "metadata": {},
   "outputs": [
    {
     "data": {
      "text/plain": [
       "array([1, 8, 2, 4, 7, 2, 8, 8, 5, 7, 7, 6, 6, 7, 5])"
      ]
     },
     "execution_count": 6,
     "metadata": {},
     "output_type": "execute_result"
    }
   ],
   "source": [
    "ids=np.random.randint(0,9,size=(15))\n",
    "ids"
   ]
  },
  {
   "cell_type": "code",
   "execution_count": 8,
   "id": "aa3e63d1-a2f1-498e-9cc4-fb8bfefff3f3",
   "metadata": {},
   "outputs": [
    {
     "data": {
      "text/plain": [
       "(array([1, 2, 4, 5, 6, 7, 8]),\n",
       " array([ 0,  2,  3,  8, 11,  4,  1], dtype=int64))"
      ]
     },
     "execution_count": 8,
     "metadata": {},
     "output_type": "execute_result"
    }
   ],
   "source": [
    "_,c=np.unique(ids,return_index=(True))\n",
    "_,c"
   ]
  },
  {
   "cell_type": "code",
   "execution_count": null,
   "id": "7bc74f67-9330-4eb8-80b4-0c33ef9d0796",
   "metadata": {},
   "outputs": [],
   "source": [
    "oiginal=np.full(ids.shape,True)\n",
    "original[np.sort(ids)]=False"
   ]
  }
 ],
 "metadata": {
  "kernelspec": {
   "display_name": "Python (my_env)",
   "language": "python",
   "name": "my_env"
  },
  "language_info": {
   "codemirror_mode": {
    "name": "ipython",
    "version": 3
   },
   "file_extension": ".py",
   "mimetype": "text/x-python",
   "name": "python",
   "nbconvert_exporter": "python",
   "pygments_lexer": "ipython3",
   "version": "3.11.11"
  }
 },
 "nbformat": 4,
 "nbformat_minor": 5
}

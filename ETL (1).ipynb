{
 "cells": [
  {
   "cell_type": "code",
   "execution_count": 1,
   "id": "387dbf21-a481-4f54-be5b-56332f214e0d",
   "metadata": {},
   "outputs": [],
   "source": [
    "import logging\n",
    "# Set up basic logging\n",
    "logging.basicConfig(\n",
    " filename='etl_log.txt',\n",
    " level=logging.INFO,\n",
    " format='%(asctime)s - %(levelname)s - %(message)s'\n",
    ")\n",
    "import pandas as pd\n",
    "import numpy as np\n",
    "import mysql.connector\n",
    "import datetime"
   ]
  },
  {
   "cell_type": "code",
   "execution_count": 3,
   "id": "37a58c65-2d9f-47c9-9b39-18a29411d1ff",
   "metadata": {},
   "outputs": [
    {
     "name": "stdout",
     "output_type": "stream",
     "text": [
      "Raw data loaded:\n",
      "   EMPLOYEE_ID FIRST_NAME  LAST_NAME     EMAIL  PHONE_NUMBER  HIRE_DATE  \\\n",
      "0          198     Donald   OConnell  DOCONNEL  650.507.9833  21-Jun-07   \n",
      "1          199    Douglas      Grant    DGRANT  650.507.9844  13-Jan-08   \n",
      "2          200   Jennifer     Whalen   JWHALEN  515.123.4444  17-Sep-03   \n",
      "3          201    Michael  Hartstein  MHARTSTE  515.123.5555  17-Feb-04   \n",
      "4          202        Pat        Fay      PFAY  603.123.6666  17-Aug-05   \n",
      "\n",
      "     JOB_ID  SALARY  \n",
      "0  SH_CLERK    2600  \n",
      "1  SH_CLERK    2600  \n",
      "2   AD_ASST    4400  \n",
      "3    MK_MAN   13000  \n",
      "4    MK_REP    6000  \n",
      "['EMPLOYEE_ID', 'FIRST_NAME', 'LAST_NAME', 'EMAIL', 'PHONE_NUMBER', 'HIRE_DATE', 'JOB_ID', 'SALARY']\n"
     ]
    }
   ],
   "source": [
    "csv_file_path = \"C:/Users/Sakthi/Downloads/employees1.csv\"\n",
    "df = pd.read_csv(csv_file_path)\n",
    "print(\"Raw data loaded:\")\n",
    "print(df.head())\n",
    "print(df.columns.tolist())\n",
    "logging.info(\"CSV loaded successfully.\")"
   ]
  },
  {
   "cell_type": "code",
   "execution_count": 4,
   "id": "a3a71492-70dc-4930-a17f-f16714ee495f",
   "metadata": {},
   "outputs": [],
   "source": [
    "df.fillna({\n",
    " 'EMAIL': 'not_provided@example.com',\n",
    " 'PHONE_NUMBER': '0000000000',\n",
    " 'HIRE_DATE': '01-Jan-00',\n",
    " 'SALARY': 0\n",
    "}, inplace=True)"
   ]
  },
  {
   "cell_type": "code",
   "execution_count": 5,
   "id": "84d7e596-5f6c-4a72-a7d4-c394eb84d62a",
   "metadata": {},
   "outputs": [
    {
     "name": "stdout",
     "output_type": "stream",
     "text": [
      "['employee_id', 'first_name', 'last_name', 'email', 'phone_number', 'hire_date', 'job_id', 'salary']\n"
     ]
    }
   ],
   "source": [
    "df.columns = [col.strip().lower().replace(' ', '_') for col in df.columns]\n",
    "print(df.columns.tolist())"
   ]
  },
  {
   "cell_type": "code",
   "execution_count": 6,
   "id": "885fbb18-0999-4159-adca-5542475978b1",
   "metadata": {},
   "outputs": [],
   "source": [
    "df['hire_date'] = pd.to_datetime(df['hire_date'], format='%d-%b-%y',\n",
    "errors='coerce')\n",
    "# Replace invalid dates with a default\n",
    "df['hire_date'] = df['hire_date'].fillna(pd.to_datetime('2000-01-01'))\n",
    "# Replace non-numeric salaries with 0\n",
    "df['salary'] = pd.to_numeric(df['salary'], errors='coerce').fillna(0).astype(int)\n",
    "logging.info(\"Data cleaning completed.\")"
   ]
  },
  {
   "cell_type": "code",
   "execution_count": 7,
   "id": "76abf974-7d3d-4335-9fca-f40a2c84675b",
   "metadata": {},
   "outputs": [],
   "source": [
    "mydb = mysql.connector.connect(\n",
    " host=\"localhost\",\n",
    " user=\"root\",\n",
    " password=\"9625015\",\n",
    " database=\"employee\" # <-- change this\n",
    ")\n",
    "cursor = mydb.cursor()"
   ]
  },
  {
   "cell_type": "code",
   "execution_count": 8,
   "id": "b64d9760-c49b-4f0e-88dd-8f784874d000",
   "metadata": {},
   "outputs": [],
   "source": [
    "cursor.execute(\"\"\"\n",
    " CREATE TABLE IF NOT EXISTS salary_2 (\n",
    " empid INT,\n",
    " firstname VARCHAR(50),\n",
    " lastname VARCHAR(50),\n",
    " email VARCHAR(100),\n",
    " phone VARCHAR(20),\n",
    " hire_date DATE,\n",
    " job_id VARCHAR(20),\n",
    " salary INT\n",
    " )\n",
    "\"\"\")"
   ]
  },
  {
   "cell_type": "code",
   "execution_count": 9,
   "id": "1da4ae7a-0233-477d-8079-9d5fc9c45794",
   "metadata": {},
   "outputs": [],
   "source": [
    "for index, row in df.iterrows():\n",
    " sql = \"\"\"\n",
    " INSERT INTO salary_2 (empid, firstname, lastname, email, phone,\n",
    "hire_date, job_id, salary)\n",
    " VALUES (%s, %s, %s, %s, %s, %s, %s, %s)\n",
    " ON DUPLICATE KEY UPDATE\n",
    " firstname=VALUES(firstname),\n",
    " lastname=VALUES(lastname),\n",
    " email=VALUES(email),\n",
    " phone=VALUES(phone),\n",
    " hire_date=VALUES(hire_date),\n",
    " job_id=VALUES(job_id),\n",
    " salary=VALUES(salary)\n",
    " \"\"\""
   ]
  },
  {
   "cell_type": "code",
   "execution_count": 11,
   "id": "8ef8802a-fe0a-4ad3-b085-b732f7ed0b63",
   "metadata": {},
   "outputs": [],
   "source": [
    "values = (\n",
    " int(row['employee_id']),\n",
    " row['first_name'],\n",
    " row['last_name'],\n",
    " row['email'],\n",
    " row['phone_number'],\n",
    " row['hire_date'].date(),\n",
    " row['job_id'],\n",
    " int(row['salary'])\n",
    " )\n",
    "cursor.execute(sql, values)"
   ]
  },
  {
   "cell_type": "code",
   "execution_count": 12,
   "id": "ee7bc9a3-faae-416b-af99-c02b26761960",
   "metadata": {},
   "outputs": [
    {
     "name": "stdout",
     "output_type": "stream",
     "text": [
      "ETL process completed successfully.\n"
     ]
    }
   ],
   "source": [
    "mydb.commit()\n",
    "cursor.close()\n",
    "mydb.close()\n",
    "logging.error(\"Something went wrong\", exc_info=True)\n",
    "print(\"ETL process completed successfully.\")"
   ]
  },
  {
   "cell_type": "code",
   "execution_count": 2,
   "id": "8fec6d91-20f4-4822-9d74-8469ffef6bb3",
   "metadata": {},
   "outputs": [
    {
     "name": "stdout",
     "output_type": "stream",
     "text": [
      "C:\\Users\\Sakthi\n"
     ]
    },
    {
     "name": "stderr",
     "output_type": "stream",
     "text": [
      "[NbConvertApp] Converting notebook ETL.ipynb to script\n",
      "[NbConvertApp] Writing 2425 bytes to ETL.py\n"
     ]
    }
   ],
   "source": [
    "import os\n",
    "print(os.getcwd())\n",
    "get_ipython().system('jupyter nbconvert --to script ETL.ipynb')"
   ]
  },
  {
   "cell_type": "code",
   "execution_count": null,
   "id": "3ed8f8fa-394b-44ec-92ac-58a26be819a1",
   "metadata": {},
   "outputs": [],
   "source": []
  }
 ],
 "metadata": {
  "kernelspec": {
   "display_name": "Python (my_env)",
   "language": "python",
   "name": "my_env"
  },
  "language_info": {
   "codemirror_mode": {
    "name": "ipython",
    "version": 3
   },
   "file_extension": ".py",
   "mimetype": "text/x-python",
   "name": "python",
   "nbconvert_exporter": "python",
   "pygments_lexer": "ipython3",
   "version": "3.11.11"
  }
 },
 "nbformat": 4,
 "nbformat_minor": 5
}

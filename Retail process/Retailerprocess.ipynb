{
 "cells": [
  {
   "cell_type": "code",
   "execution_count": 0,
   "metadata": {
    "application/vnd.databricks.v1+cell": {
     "cellMetadata": {},
     "inputWidgets": {},
     "nuid": "1d90ee58-2832-4033-b170-0ef56e3013b7",
     "showTitle": false,
     "tableResultSettingsMap": {},
     "title": ""
    }
   },
   "outputs": [],
   "source": [
    "import logging\n",
    "import glob"
   ]
  },
  {
   "cell_type": "code",
   "execution_count": 0,
   "metadata": {
    "application/vnd.databricks.v1+cell": {
     "cellMetadata": {},
     "inputWidgets": {},
     "nuid": "06450966-6f8d-4799-8b96-6fb07cb96c19",
     "showTitle": false,
     "tableResultSettingsMap": {},
     "title": ""
    }
   },
   "outputs": [],
   "source": [
    "logging.basicConfig(\n",
    "    filename='ETLLOG.txt',\n",
    "    level=logging.INFO,\n",
    "    format='%(asctime)s - %(levelname)s - %(message)s'\n",
    ")\n",
    "import os    \n",
    "import pandas as pd\n",
    "import numpy as np\n",
    "import mysql.connector\n",
    "import datetime"
   ]
  },
  {
   "cell_type": "code",
   "execution_count": 0,
   "metadata": {
    "application/vnd.databricks.v1+cell": {
     "cellMetadata": {},
     "inputWidgets": {},
     "nuid": "4e770794-91cc-4432-82d5-9a3a74b71d61",
     "showTitle": false,
     "tableResultSettingsMap": {},
     "title": ""
    }
   },
   "outputs": [
    {
     "output_type": "execute_result",
     "data": {
      "text/plain": [
       "[  Store_ID        Date Product_ID Product_Name  Quantity_Sold  Unit_Price  \\\n",
       " 0    ST001  2025-07-18    PRD1001         Soap             20        25.5   \n",
       " 1    ST001  2025-07-18    PRD1002      Shampoo             15       110.0   \n",
       " 2    ST001  2025-07-19    PRD1003   Toothpaste             30        32.0   \n",
       " 3    ST001  2025-07-19    PRD1004       Lotion             10        85.5   \n",
       " \n",
       "    Discount_Percent Payment_Mode  \n",
       " 0                10         Cash  \n",
       " 1                 5         Card  \n",
       " 2                 0          UPI  \n",
       " 3                 7       Wallet  ,\n",
       "   Store_ID        Date Product_ID Product_Name  Quantity_Sold  Unit_Price  \\\n",
       " 0    ST002  2025-07-18    PRD1002      Shampoo             25       108.0   \n",
       " 1    ST002  2025-07-18    PRD1005  Conditioner             18        95.0   \n",
       " 2    ST002  2025-07-19    PRD1001         Soap             28        25.0   \n",
       " 3    ST002  2025-07-19    PRD1006    Face Wash             12       150.0   \n",
       " \n",
       "    Discount_Percent Payment_Mode  \n",
       " 0                 6         Cash  \n",
       " 1                 8         Card  \n",
       " 2                12          UPI  \n",
       " 3                 5       Wallet  ]"
      ]
     },
     "execution_count": 20,
     "metadata": {},
     "output_type": "execute_result"
    }
   ],
   "source": [
    "csvs=glob.glob(\"C:/Users/Sakthi/Downloads/data sales/*.csv\")\n",
    "df=[pd.read_csv(file) for file in csvs]\n",
    "df"
   ]
  },
  {
   "cell_type": "code",
   "execution_count": 0,
   "metadata": {
    "application/vnd.databricks.v1+cell": {
     "cellMetadata": {},
     "inputWidgets": {},
     "nuid": "e5872036-21f4-4848-aca2-0c20e9c7317f",
     "showTitle": false,
     "tableResultSettingsMap": {},
     "title": ""
    }
   },
   "outputs": [
    {
     "output_type": "execute_result",
     "data": {
      "text/html": [
       "<div>\n",
       "<style scoped>\n",
       "    .dataframe tbody tr th:only-of-type {\n",
       "        vertical-align: middle;\n",
       "    }\n",
       "\n",
       "    .dataframe tbody tr th {\n",
       "        vertical-align: top;\n",
       "    }\n",
       "\n",
       "    .dataframe thead th {\n",
       "        text-align: right;\n",
       "    }\n",
       "</style>\n",
       "<table border=\"1\" class=\"dataframe\">\n",
       "  <thead>\n",
       "    <tr style=\"text-align: right;\">\n",
       "      <th></th>\n",
       "      <th>Store_ID</th>\n",
       "      <th>Date</th>\n",
       "      <th>Product_ID</th>\n",
       "      <th>Product_Name</th>\n",
       "      <th>Quantity_Sold</th>\n",
       "      <th>Unit_Price</th>\n",
       "      <th>Discount_Percent</th>\n",
       "      <th>Payment_Mode</th>\n",
       "    </tr>\n",
       "  </thead>\n",
       "  <tbody>\n",
       "    <tr>\n",
       "      <th>0</th>\n",
       "      <td>ST001</td>\n",
       "      <td>2025-07-18</td>\n",
       "      <td>PRD1001</td>\n",
       "      <td>Soap</td>\n",
       "      <td>20</td>\n",
       "      <td>25.5</td>\n",
       "      <td>10</td>\n",
       "      <td>Cash</td>\n",
       "    </tr>\n",
       "    <tr>\n",
       "      <th>1</th>\n",
       "      <td>ST001</td>\n",
       "      <td>2025-07-18</td>\n",
       "      <td>PRD1002</td>\n",
       "      <td>Shampoo</td>\n",
       "      <td>15</td>\n",
       "      <td>110.0</td>\n",
       "      <td>5</td>\n",
       "      <td>Card</td>\n",
       "    </tr>\n",
       "    <tr>\n",
       "      <th>2</th>\n",
       "      <td>ST001</td>\n",
       "      <td>2025-07-19</td>\n",
       "      <td>PRD1003</td>\n",
       "      <td>Toothpaste</td>\n",
       "      <td>30</td>\n",
       "      <td>32.0</td>\n",
       "      <td>0</td>\n",
       "      <td>UPI</td>\n",
       "    </tr>\n",
       "    <tr>\n",
       "      <th>3</th>\n",
       "      <td>ST001</td>\n",
       "      <td>2025-07-19</td>\n",
       "      <td>PRD1004</td>\n",
       "      <td>Lotion</td>\n",
       "      <td>10</td>\n",
       "      <td>85.5</td>\n",
       "      <td>7</td>\n",
       "      <td>Wallet</td>\n",
       "    </tr>\n",
       "    <tr>\n",
       "      <th>4</th>\n",
       "      <td>ST002</td>\n",
       "      <td>2025-07-18</td>\n",
       "      <td>PRD1002</td>\n",
       "      <td>Shampoo</td>\n",
       "      <td>25</td>\n",
       "      <td>108.0</td>\n",
       "      <td>6</td>\n",
       "      <td>Cash</td>\n",
       "    </tr>\n",
       "    <tr>\n",
       "      <th>5</th>\n",
       "      <td>ST002</td>\n",
       "      <td>2025-07-18</td>\n",
       "      <td>PRD1005</td>\n",
       "      <td>Conditioner</td>\n",
       "      <td>18</td>\n",
       "      <td>95.0</td>\n",
       "      <td>8</td>\n",
       "      <td>Card</td>\n",
       "    </tr>\n",
       "    <tr>\n",
       "      <th>6</th>\n",
       "      <td>ST002</td>\n",
       "      <td>2025-07-19</td>\n",
       "      <td>PRD1001</td>\n",
       "      <td>Soap</td>\n",
       "      <td>28</td>\n",
       "      <td>25.0</td>\n",
       "      <td>12</td>\n",
       "      <td>UPI</td>\n",
       "    </tr>\n",
       "    <tr>\n",
       "      <th>7</th>\n",
       "      <td>ST002</td>\n",
       "      <td>2025-07-19</td>\n",
       "      <td>PRD1006</td>\n",
       "      <td>Face Wash</td>\n",
       "      <td>12</td>\n",
       "      <td>150.0</td>\n",
       "      <td>5</td>\n",
       "      <td>Wallet</td>\n",
       "    </tr>\n",
       "  </tbody>\n",
       "</table>\n",
       "</div>"
      ],
      "text/plain": [
       "  Store_ID        Date Product_ID Product_Name  Quantity_Sold  Unit_Price  \\\n",
       "0    ST001  2025-07-18    PRD1001         Soap             20        25.5   \n",
       "1    ST001  2025-07-18    PRD1002      Shampoo             15       110.0   \n",
       "2    ST001  2025-07-19    PRD1003   Toothpaste             30        32.0   \n",
       "3    ST001  2025-07-19    PRD1004       Lotion             10        85.5   \n",
       "4    ST002  2025-07-18    PRD1002      Shampoo             25       108.0   \n",
       "5    ST002  2025-07-18    PRD1005  Conditioner             18        95.0   \n",
       "6    ST002  2025-07-19    PRD1001         Soap             28        25.0   \n",
       "7    ST002  2025-07-19    PRD1006    Face Wash             12       150.0   \n",
       "\n",
       "   Discount_Percent Payment_Mode  \n",
       "0                10         Cash  \n",
       "1                 5         Card  \n",
       "2                 0          UPI  \n",
       "3                 7       Wallet  \n",
       "4                 6         Cash  \n",
       "5                 8         Card  \n",
       "6                12          UPI  \n",
       "7                 5       Wallet  "
      ]
     },
     "execution_count": 21,
     "metadata": {},
     "output_type": "execute_result"
    }
   ],
   "source": [
    "Df=pd.concat(df,ignore_index=True)\n",
    "Df"
   ]
  },
  {
   "cell_type": "code",
   "execution_count": 0,
   "metadata": {
    "application/vnd.databricks.v1+cell": {
     "cellMetadata": {},
     "inputWidgets": {},
     "nuid": "1b617577-50ce-409b-bf48-a7d2548bee79",
     "showTitle": false,
     "tableResultSettingsMap": {},
     "title": ""
    }
   },
   "outputs": [
    {
     "output_type": "execute_result",
     "data": {
      "text/html": [
       "<div>\n",
       "<style scoped>\n",
       "    .dataframe tbody tr th:only-of-type {\n",
       "        vertical-align: middle;\n",
       "    }\n",
       "\n",
       "    .dataframe tbody tr th {\n",
       "        vertical-align: top;\n",
       "    }\n",
       "\n",
       "    .dataframe thead th {\n",
       "        text-align: right;\n",
       "    }\n",
       "</style>\n",
       "<table border=\"1\" class=\"dataframe\">\n",
       "  <thead>\n",
       "    <tr style=\"text-align: right;\">\n",
       "      <th></th>\n",
       "      <th>Store_ID</th>\n",
       "      <th>Date</th>\n",
       "      <th>Product_ID</th>\n",
       "      <th>Product_Name</th>\n",
       "      <th>Quantity_Sold</th>\n",
       "      <th>Unit_Price</th>\n",
       "      <th>Discount_Percent</th>\n",
       "      <th>Payment_Mode</th>\n",
       "    </tr>\n",
       "  </thead>\n",
       "  <tbody>\n",
       "    <tr>\n",
       "      <th>0</th>\n",
       "      <td>ST001</td>\n",
       "      <td>2025-07-18</td>\n",
       "      <td>PRD1001</td>\n",
       "      <td>Soap</td>\n",
       "      <td>20</td>\n",
       "      <td>25.5</td>\n",
       "      <td>10</td>\n",
       "      <td>Cash</td>\n",
       "    </tr>\n",
       "    <tr>\n",
       "      <th>1</th>\n",
       "      <td>ST001</td>\n",
       "      <td>2025-07-18</td>\n",
       "      <td>PRD1002</td>\n",
       "      <td>Shampoo</td>\n",
       "      <td>15</td>\n",
       "      <td>110.0</td>\n",
       "      <td>5</td>\n",
       "      <td>Card</td>\n",
       "    </tr>\n",
       "    <tr>\n",
       "      <th>2</th>\n",
       "      <td>ST001</td>\n",
       "      <td>2025-07-19</td>\n",
       "      <td>PRD1003</td>\n",
       "      <td>Toothpaste</td>\n",
       "      <td>30</td>\n",
       "      <td>32.0</td>\n",
       "      <td>0</td>\n",
       "      <td>UPI</td>\n",
       "    </tr>\n",
       "    <tr>\n",
       "      <th>3</th>\n",
       "      <td>ST001</td>\n",
       "      <td>2025-07-19</td>\n",
       "      <td>PRD1004</td>\n",
       "      <td>Lotion</td>\n",
       "      <td>10</td>\n",
       "      <td>85.5</td>\n",
       "      <td>7</td>\n",
       "      <td>Wallet</td>\n",
       "    </tr>\n",
       "    <tr>\n",
       "      <th>4</th>\n",
       "      <td>ST002</td>\n",
       "      <td>2025-07-18</td>\n",
       "      <td>PRD1002</td>\n",
       "      <td>Shampoo</td>\n",
       "      <td>25</td>\n",
       "      <td>108.0</td>\n",
       "      <td>6</td>\n",
       "      <td>Cash</td>\n",
       "    </tr>\n",
       "    <tr>\n",
       "      <th>5</th>\n",
       "      <td>ST002</td>\n",
       "      <td>2025-07-18</td>\n",
       "      <td>PRD1005</td>\n",
       "      <td>Conditioner</td>\n",
       "      <td>18</td>\n",
       "      <td>95.0</td>\n",
       "      <td>8</td>\n",
       "      <td>Card</td>\n",
       "    </tr>\n",
       "    <tr>\n",
       "      <th>6</th>\n",
       "      <td>ST002</td>\n",
       "      <td>2025-07-19</td>\n",
       "      <td>PRD1001</td>\n",
       "      <td>Soap</td>\n",
       "      <td>28</td>\n",
       "      <td>25.0</td>\n",
       "      <td>12</td>\n",
       "      <td>UPI</td>\n",
       "    </tr>\n",
       "    <tr>\n",
       "      <th>7</th>\n",
       "      <td>ST002</td>\n",
       "      <td>2025-07-19</td>\n",
       "      <td>PRD1006</td>\n",
       "      <td>Face Wash</td>\n",
       "      <td>12</td>\n",
       "      <td>150.0</td>\n",
       "      <td>5</td>\n",
       "      <td>Wallet</td>\n",
       "    </tr>\n",
       "  </tbody>\n",
       "</table>\n",
       "</div>"
      ],
      "text/plain": [
       "  Store_ID        Date Product_ID Product_Name  Quantity_Sold  Unit_Price  \\\n",
       "0    ST001  2025-07-18    PRD1001         Soap             20        25.5   \n",
       "1    ST001  2025-07-18    PRD1002      Shampoo             15       110.0   \n",
       "2    ST001  2025-07-19    PRD1003   Toothpaste             30        32.0   \n",
       "3    ST001  2025-07-19    PRD1004       Lotion             10        85.5   \n",
       "4    ST002  2025-07-18    PRD1002      Shampoo             25       108.0   \n",
       "5    ST002  2025-07-18    PRD1005  Conditioner             18        95.0   \n",
       "6    ST002  2025-07-19    PRD1001         Soap             28        25.0   \n",
       "7    ST002  2025-07-19    PRD1006    Face Wash             12       150.0   \n",
       "\n",
       "   Discount_Percent Payment_Mode  \n",
       "0                10         Cash  \n",
       "1                 5         Card  \n",
       "2                 0          UPI  \n",
       "3                 7       Wallet  \n",
       "4                 6         Cash  \n",
       "5                 8         Card  \n",
       "6                12          UPI  \n",
       "7                 5       Wallet  "
      ]
     },
     "execution_count": 22,
     "metadata": {},
     "output_type": "execute_result"
    }
   ],
   "source": [
    "Df.dropna()"
   ]
  },
  {
   "cell_type": "code",
   "execution_count": 0,
   "metadata": {
    "application/vnd.databricks.v1+cell": {
     "cellMetadata": {},
     "inputWidgets": {},
     "nuid": "9fd73660-3639-48b7-864d-ff17e94a1539",
     "showTitle": false,
     "tableResultSettingsMap": {},
     "title": ""
    }
   },
   "outputs": [],
   "source": [
    "Df['total_sales']=Df['Unit_Price']*Df['Quantity_Sold']"
   ]
  },
  {
   "cell_type": "code",
   "execution_count": 0,
   "metadata": {
    "application/vnd.databricks.v1+cell": {
     "cellMetadata": {},
     "inputWidgets": {},
     "nuid": "8b890a44-ba8b-4018-b45f-8d7a396cec7c",
     "showTitle": false,
     "tableResultSettingsMap": {},
     "title": ""
    }
   },
   "outputs": [
    {
     "output_type": "execute_result",
     "data": {
      "text/html": [
       "<div>\n",
       "<style scoped>\n",
       "    .dataframe tbody tr th:only-of-type {\n",
       "        vertical-align: middle;\n",
       "    }\n",
       "\n",
       "    .dataframe tbody tr th {\n",
       "        vertical-align: top;\n",
       "    }\n",
       "\n",
       "    .dataframe thead th {\n",
       "        text-align: right;\n",
       "    }\n",
       "</style>\n",
       "<table border=\"1\" class=\"dataframe\">\n",
       "  <thead>\n",
       "    <tr style=\"text-align: right;\">\n",
       "      <th></th>\n",
       "      <th>Store_ID</th>\n",
       "      <th>Date</th>\n",
       "      <th>Product_ID</th>\n",
       "      <th>Product_Name</th>\n",
       "      <th>Quantity_Sold</th>\n",
       "      <th>Unit_Price</th>\n",
       "      <th>Discount_Percent</th>\n",
       "      <th>Payment_Mode</th>\n",
       "      <th>total_sales</th>\n",
       "    </tr>\n",
       "  </thead>\n",
       "  <tbody>\n",
       "    <tr>\n",
       "      <th>0</th>\n",
       "      <td>ST001</td>\n",
       "      <td>2025-07-18</td>\n",
       "      <td>PRD1001</td>\n",
       "      <td>Soap</td>\n",
       "      <td>20</td>\n",
       "      <td>25.5</td>\n",
       "      <td>10</td>\n",
       "      <td>Cash</td>\n",
       "      <td>510.0</td>\n",
       "    </tr>\n",
       "    <tr>\n",
       "      <th>1</th>\n",
       "      <td>ST001</td>\n",
       "      <td>2025-07-18</td>\n",
       "      <td>PRD1002</td>\n",
       "      <td>Shampoo</td>\n",
       "      <td>15</td>\n",
       "      <td>110.0</td>\n",
       "      <td>5</td>\n",
       "      <td>Card</td>\n",
       "      <td>1650.0</td>\n",
       "    </tr>\n",
       "    <tr>\n",
       "      <th>2</th>\n",
       "      <td>ST001</td>\n",
       "      <td>2025-07-19</td>\n",
       "      <td>PRD1003</td>\n",
       "      <td>Toothpaste</td>\n",
       "      <td>30</td>\n",
       "      <td>32.0</td>\n",
       "      <td>0</td>\n",
       "      <td>UPI</td>\n",
       "      <td>960.0</td>\n",
       "    </tr>\n",
       "    <tr>\n",
       "      <th>3</th>\n",
       "      <td>ST001</td>\n",
       "      <td>2025-07-19</td>\n",
       "      <td>PRD1004</td>\n",
       "      <td>Lotion</td>\n",
       "      <td>10</td>\n",
       "      <td>85.5</td>\n",
       "      <td>7</td>\n",
       "      <td>Wallet</td>\n",
       "      <td>855.0</td>\n",
       "    </tr>\n",
       "    <tr>\n",
       "      <th>4</th>\n",
       "      <td>ST002</td>\n",
       "      <td>2025-07-18</td>\n",
       "      <td>PRD1002</td>\n",
       "      <td>Shampoo</td>\n",
       "      <td>25</td>\n",
       "      <td>108.0</td>\n",
       "      <td>6</td>\n",
       "      <td>Cash</td>\n",
       "      <td>2700.0</td>\n",
       "    </tr>\n",
       "    <tr>\n",
       "      <th>5</th>\n",
       "      <td>ST002</td>\n",
       "      <td>2025-07-18</td>\n",
       "      <td>PRD1005</td>\n",
       "      <td>Conditioner</td>\n",
       "      <td>18</td>\n",
       "      <td>95.0</td>\n",
       "      <td>8</td>\n",
       "      <td>Card</td>\n",
       "      <td>1710.0</td>\n",
       "    </tr>\n",
       "    <tr>\n",
       "      <th>6</th>\n",
       "      <td>ST002</td>\n",
       "      <td>2025-07-19</td>\n",
       "      <td>PRD1001</td>\n",
       "      <td>Soap</td>\n",
       "      <td>28</td>\n",
       "      <td>25.0</td>\n",
       "      <td>12</td>\n",
       "      <td>UPI</td>\n",
       "      <td>700.0</td>\n",
       "    </tr>\n",
       "    <tr>\n",
       "      <th>7</th>\n",
       "      <td>ST002</td>\n",
       "      <td>2025-07-19</td>\n",
       "      <td>PRD1006</td>\n",
       "      <td>Face Wash</td>\n",
       "      <td>12</td>\n",
       "      <td>150.0</td>\n",
       "      <td>5</td>\n",
       "      <td>Wallet</td>\n",
       "      <td>1800.0</td>\n",
       "    </tr>\n",
       "  </tbody>\n",
       "</table>\n",
       "</div>"
      ],
      "text/plain": [
       "  Store_ID        Date Product_ID Product_Name  Quantity_Sold  Unit_Price  \\\n",
       "0    ST001  2025-07-18    PRD1001         Soap             20        25.5   \n",
       "1    ST001  2025-07-18    PRD1002      Shampoo             15       110.0   \n",
       "2    ST001  2025-07-19    PRD1003   Toothpaste             30        32.0   \n",
       "3    ST001  2025-07-19    PRD1004       Lotion             10        85.5   \n",
       "4    ST002  2025-07-18    PRD1002      Shampoo             25       108.0   \n",
       "5    ST002  2025-07-18    PRD1005  Conditioner             18        95.0   \n",
       "6    ST002  2025-07-19    PRD1001         Soap             28        25.0   \n",
       "7    ST002  2025-07-19    PRD1006    Face Wash             12       150.0   \n",
       "\n",
       "   Discount_Percent Payment_Mode  total_sales  \n",
       "0                10         Cash        510.0  \n",
       "1                 5         Card       1650.0  \n",
       "2                 0          UPI        960.0  \n",
       "3                 7       Wallet        855.0  \n",
       "4                 6         Cash       2700.0  \n",
       "5                 8         Card       1710.0  \n",
       "6                12          UPI        700.0  \n",
       "7                 5       Wallet       1800.0  "
      ]
     },
     "execution_count": 24,
     "metadata": {},
     "output_type": "execute_result"
    }
   ],
   "source": [
    "Df"
   ]
  },
  {
   "cell_type": "code",
   "execution_count": 0,
   "metadata": {
    "application/vnd.databricks.v1+cell": {
     "cellMetadata": {},
     "inputWidgets": {},
     "nuid": "10a1bcad-4e52-4174-9898-ccbfa3c43844",
     "showTitle": false,
     "tableResultSettingsMap": {},
     "title": ""
    }
   },
   "outputs": [],
   "source": [
    "Df['Date']=Df['Date'].dt.strftime('%y-%m-%d ')"
   ]
  },
  {
   "cell_type": "code",
   "execution_count": 0,
   "metadata": {
    "application/vnd.databricks.v1+cell": {
     "cellMetadata": {},
     "inputWidgets": {},
     "nuid": "5a935230-bccb-44a8-8c67-3c6bc1d54533",
     "showTitle": false,
     "tableResultSettingsMap": {},
     "title": ""
    }
   },
   "outputs": [],
   "source": [
    "Df=Df.drop_duplicates(subset=['Store_ID','Date','Product_ID'])"
   ]
  },
  {
   "cell_type": "code",
   "execution_count": 0,
   "metadata": {
    "application/vnd.databricks.v1+cell": {
     "cellMetadata": {},
     "inputWidgets": {},
     "nuid": "88d48988-ec74-41bc-ad26-ab37ffac702c",
     "showTitle": false,
     "tableResultSettingsMap": {},
     "title": ""
    }
   },
   "outputs": [],
   "source": [
    "conditions=[\n",
    "    Df['total_sales']>=1000,\n",
    "    Df['total_sales']<1000,\n",
    "]\n",
    "choices=['High','low']\n",
    "Df['Sales_category']=np.select(conditions,choices,default='low')"
   ]
  },
  {
   "cell_type": "code",
   "execution_count": 0,
   "metadata": {
    "application/vnd.databricks.v1+cell": {
     "cellMetadata": {},
     "inputWidgets": {},
     "nuid": "47ad783b-db01-4c1a-90dd-19ee628673d9",
     "showTitle": false,
     "tableResultSettingsMap": {},
     "title": ""
    }
   },
   "outputs": [
    {
     "output_type": "execute_result",
     "data": {
      "text/html": [
       "<div>\n",
       "<style scoped>\n",
       "    .dataframe tbody tr th:only-of-type {\n",
       "        vertical-align: middle;\n",
       "    }\n",
       "\n",
       "    .dataframe tbody tr th {\n",
       "        vertical-align: top;\n",
       "    }\n",
       "\n",
       "    .dataframe thead th {\n",
       "        text-align: right;\n",
       "    }\n",
       "</style>\n",
       "<table border=\"1\" class=\"dataframe\">\n",
       "  <thead>\n",
       "    <tr style=\"text-align: right;\">\n",
       "      <th></th>\n",
       "      <th>Store_ID</th>\n",
       "      <th>Date</th>\n",
       "      <th>Product_ID</th>\n",
       "      <th>Product_Name</th>\n",
       "      <th>Quantity_Sold</th>\n",
       "      <th>Unit_Price</th>\n",
       "      <th>Discount_Percent</th>\n",
       "      <th>Payment_Mode</th>\n",
       "      <th>total_sales</th>\n",
       "      <th>Sales_category</th>\n",
       "    </tr>\n",
       "  </thead>\n",
       "  <tbody>\n",
       "    <tr>\n",
       "      <th>0</th>\n",
       "      <td>ST001</td>\n",
       "      <td>25-07-18</td>\n",
       "      <td>PRD1001</td>\n",
       "      <td>Soap</td>\n",
       "      <td>20</td>\n",
       "      <td>25.5</td>\n",
       "      <td>10</td>\n",
       "      <td>Cash</td>\n",
       "      <td>510.0</td>\n",
       "      <td>low</td>\n",
       "    </tr>\n",
       "    <tr>\n",
       "      <th>1</th>\n",
       "      <td>ST001</td>\n",
       "      <td>25-07-18</td>\n",
       "      <td>PRD1002</td>\n",
       "      <td>Shampoo</td>\n",
       "      <td>15</td>\n",
       "      <td>110.0</td>\n",
       "      <td>5</td>\n",
       "      <td>Card</td>\n",
       "      <td>1650.0</td>\n",
       "      <td>High</td>\n",
       "    </tr>\n",
       "    <tr>\n",
       "      <th>2</th>\n",
       "      <td>ST001</td>\n",
       "      <td>25-07-19</td>\n",
       "      <td>PRD1003</td>\n",
       "      <td>Toothpaste</td>\n",
       "      <td>30</td>\n",
       "      <td>32.0</td>\n",
       "      <td>0</td>\n",
       "      <td>UPI</td>\n",
       "      <td>960.0</td>\n",
       "      <td>low</td>\n",
       "    </tr>\n",
       "    <tr>\n",
       "      <th>3</th>\n",
       "      <td>ST001</td>\n",
       "      <td>25-07-19</td>\n",
       "      <td>PRD1004</td>\n",
       "      <td>Lotion</td>\n",
       "      <td>10</td>\n",
       "      <td>85.5</td>\n",
       "      <td>7</td>\n",
       "      <td>Wallet</td>\n",
       "      <td>855.0</td>\n",
       "      <td>low</td>\n",
       "    </tr>\n",
       "    <tr>\n",
       "      <th>4</th>\n",
       "      <td>ST002</td>\n",
       "      <td>25-07-18</td>\n",
       "      <td>PRD1002</td>\n",
       "      <td>Shampoo</td>\n",
       "      <td>25</td>\n",
       "      <td>108.0</td>\n",
       "      <td>6</td>\n",
       "      <td>Cash</td>\n",
       "      <td>2700.0</td>\n",
       "      <td>High</td>\n",
       "    </tr>\n",
       "    <tr>\n",
       "      <th>5</th>\n",
       "      <td>ST002</td>\n",
       "      <td>25-07-18</td>\n",
       "      <td>PRD1005</td>\n",
       "      <td>Conditioner</td>\n",
       "      <td>18</td>\n",
       "      <td>95.0</td>\n",
       "      <td>8</td>\n",
       "      <td>Card</td>\n",
       "      <td>1710.0</td>\n",
       "      <td>High</td>\n",
       "    </tr>\n",
       "    <tr>\n",
       "      <th>6</th>\n",
       "      <td>ST002</td>\n",
       "      <td>25-07-19</td>\n",
       "      <td>PRD1001</td>\n",
       "      <td>Soap</td>\n",
       "      <td>28</td>\n",
       "      <td>25.0</td>\n",
       "      <td>12</td>\n",
       "      <td>UPI</td>\n",
       "      <td>700.0</td>\n",
       "      <td>low</td>\n",
       "    </tr>\n",
       "    <tr>\n",
       "      <th>7</th>\n",
       "      <td>ST002</td>\n",
       "      <td>25-07-19</td>\n",
       "      <td>PRD1006</td>\n",
       "      <td>Face Wash</td>\n",
       "      <td>12</td>\n",
       "      <td>150.0</td>\n",
       "      <td>5</td>\n",
       "      <td>Wallet</td>\n",
       "      <td>1800.0</td>\n",
       "      <td>High</td>\n",
       "    </tr>\n",
       "  </tbody>\n",
       "</table>\n",
       "</div>"
      ],
      "text/plain": [
       "  Store_ID       Date Product_ID Product_Name  Quantity_Sold  Unit_Price  \\\n",
       "0    ST001  25-07-18     PRD1001         Soap             20        25.5   \n",
       "1    ST001  25-07-18     PRD1002      Shampoo             15       110.0   \n",
       "2    ST001  25-07-19     PRD1003   Toothpaste             30        32.0   \n",
       "3    ST001  25-07-19     PRD1004       Lotion             10        85.5   \n",
       "4    ST002  25-07-18     PRD1002      Shampoo             25       108.0   \n",
       "5    ST002  25-07-18     PRD1005  Conditioner             18        95.0   \n",
       "6    ST002  25-07-19     PRD1001         Soap             28        25.0   \n",
       "7    ST002  25-07-19     PRD1006    Face Wash             12       150.0   \n",
       "\n",
       "   Discount_Percent Payment_Mode  total_sales Sales_category  \n",
       "0                10         Cash        510.0            low  \n",
       "1                 5         Card       1650.0           High  \n",
       "2                 0          UPI        960.0            low  \n",
       "3                 7       Wallet        855.0            low  \n",
       "4                 6         Cash       2700.0           High  \n",
       "5                 8         Card       1710.0           High  \n",
       "6                12          UPI        700.0            low  \n",
       "7                 5       Wallet       1800.0           High  "
      ]
     },
     "execution_count": 52,
     "metadata": {},
     "output_type": "execute_result"
    }
   ],
   "source": [
    "Df"
   ]
  },
  {
   "cell_type": "code",
   "execution_count": 0,
   "metadata": {
    "application/vnd.databricks.v1+cell": {
     "cellMetadata": {},
     "inputWidgets": {},
     "nuid": "5e78f823-9f5b-4a9e-baeb-eacfc2711a6e",
     "showTitle": false,
     "tableResultSettingsMap": {},
     "title": ""
    }
   },
   "outputs": [],
   "source": [
    "# connecting with mydatabase\n",
    "mydb=mysql.connector.connect(\n",
    "    host='localhost',\n",
    "    user='root',\n",
    "    password='9625015',\n",
    "    database='Retail_Sales'\n",
    ")\n",
    "cursor=mydb.cursor()"
   ]
  },
  {
   "cell_type": "code",
   "execution_count": 0,
   "metadata": {
    "application/vnd.databricks.v1+cell": {
     "cellMetadata": {},
     "inputWidgets": {},
     "nuid": "d8140ebc-c0e2-49e1-a971-284507f5d1d0",
     "showTitle": false,
     "tableResultSettingsMap": {},
     "title": ""
    }
   },
   "outputs": [],
   "source": [
    "cursor.execute(\"\"\"CREATE TABLE retail_sales(\n",
    "Store_ID VARCHAR(5),\n",
    "Date date,\n",
    "Product_ID VARCHAR(10),\n",
    "Quantity_Sold int,\n",
    "Discount_Percent int,\n",
    "Payment_Mode VARCHAR(30),\n",
    "total_sales float(2),\n",
    "Sales_category VARCHAR(5))\n",
    "\"\"\")"
   ]
  },
  {
   "cell_type": "code",
   "execution_count": 0,
   "metadata": {
    "application/vnd.databricks.v1+cell": {
     "cellMetadata": {},
     "inputWidgets": {},
     "nuid": "c5bdf1c3-7a02-4566-9e2a-51b664be7035",
     "showTitle": false,
     "tableResultSettingsMap": {},
     "title": ""
    }
   },
   "outputs": [],
   "source": [
    "cursor.execute(\"\"\"ALTER TABLE retail_sales\n",
    "ADD COlUMN Product_Name Varchar(30),\n",
    "ADD COLUMN Unit_Price float(2);\n",
    "\"\"\")"
   ]
  },
  {
   "cell_type": "code",
   "execution_count": 0,
   "metadata": {
    "application/vnd.databricks.v1+cell": {
     "cellMetadata": {},
     "inputWidgets": {},
     "nuid": "066896ab-c898-401a-8cad-8a4c562353d1",
     "showTitle": false,
     "tableResultSettingsMap": {},
     "title": ""
    }
   },
   "outputs": [],
   "source": [
    "sql = \"\"\"\n",
    "INSERT INTO retail_sales (\n",
    "    Store_ID,\n",
    "    Date,\n",
    "    Product_ID,\n",
    "    Product_Name,\n",
    "    Quantity_Sold,\n",
    "    Discount_Percent,\n",
    "    Unit_Price,\n",
    "    Payment_Mode,\n",
    "    total_sales,\n",
    "    Sales_category\n",
    ") VALUES (%s, %s, %s, %s, %s, %s, %s, %s,%s,%s)\n",
    "\"\"\"\n",
    "\n",
    "data=[tuple(row) for row in Df.values]\n",
    "cursor.executemany(sql,data)"
   ]
  },
  {
   "cell_type": "code",
   "execution_count": 0,
   "metadata": {
    "application/vnd.databricks.v1+cell": {
     "cellMetadata": {},
     "inputWidgets": {},
     "nuid": "0c4193be-0145-4459-a26f-f81d19fd9053",
     "showTitle": false,
     "tableResultSettingsMap": {},
     "title": ""
    }
   },
   "outputs": [
    {
     "output_type": "stream",
     "name": "stdout",
     "output_type": "stream",
     "text": [
      "ETL process completed successfully.\n"
     ]
    }
   ],
   "source": [
    "mydb.commit()\n",
    "cursor.close()\n",
    "mydb.close()\n",
    "logging.error(\"Something went wrong\", exc_info=True)\n",
    "print(\"ETL process completed successfully.\")"
   ]
  },
  {
   "cell_type": "code",
   "execution_count": 0,
   "metadata": {
    "application/vnd.databricks.v1+cell": {
     "cellMetadata": {},
     "inputWidgets": {},
     "nuid": "6b3ad340-8832-4143-8fbe-23b28c3be32f",
     "showTitle": false,
     "tableResultSettingsMap": {},
     "title": ""
    }
   },
   "outputs": [],
   "source": [
    "#using pandas to calculate Total sales per store.\n",
    "# Top 5 products with the highest total sales.\n",
    "# Daily total sales trend for each store.\n",
    "TotalSales_per_Store=Df.groupby('Store_ID')['total_sales'].sum().reset_index()\n",
    "High_total_values=Df.groupby('Product_ID')['total_sales'].sum().reset_index().sort_values(by='total_sales',ascending=False)\n",
    "High5Products=High_total_values.head(5)\n",
    "daily_trend=Df.groupby(['Store_ID','Date'])['total_sales'].sum().reset_index().sort_values(['Store_ID', 'Date'])\n",
    "TotalSales_per_Store.to_csv('total sales per store.csv')\n",
    "High5Products.to_csv('highest total score.csv')\n",
    "daily_trend.to_csv('dailytrend.csv')"
   ]
  },
  {
   "cell_type": "code",
   "execution_count": 0,
   "metadata": {
    "application/vnd.databricks.v1+cell": {
     "cellMetadata": {},
     "inputWidgets": {},
     "nuid": "1993e920-4e18-404a-98c6-dc2e3e2acef5",
     "showTitle": false,
     "tableResultSettingsMap": {},
     "title": ""
    }
   },
   "outputs": [
    {
     "output_type": "stream",
     "name": "stdout",
     "output_type": "stream",
     "text": [
      "C:\\Users\\Sakthi\n"
     ]
    },
    {
     "output_type": "stream",
     "name": "stderr",
     "output_type": "stream",
     "text": [
      "[NbConvertApp] Converting notebook Retailerprocess.ipynb to script\n[NbConvertApp] Writing 2756 bytes to Retailerprocess.py\n"
     ]
    }
   ],
   "source": [
    "import os\n",
    "print(os.getcwd())\n",
    "get_ipython().system('jupyter nbconvert --to script Retailerprocess.ipynb')"
   ]
  },
  {
   "cell_type": "code",
   "execution_count": 0,
   "metadata": {
    "application/vnd.databricks.v1+cell": {
     "cellMetadata": {},
     "inputWidgets": {},
     "nuid": "cd64b000-a1cf-4a80-a4e1-226524cab62e",
     "showTitle": false,
     "tableResultSettingsMap": {},
     "title": ""
    }
   },
   "outputs": [],
   "source": []
  }
 ],
 "metadata": {
  "application/vnd.databricks.v1+notebook": {
   "computePreferences": null,
   "dashboards": [],
   "environmentMetadata": null,
   "inputWidgetPreferences": null,
   "language": "python",
   "notebookMetadata": {},
   "notebookName": "Retailerprocess",
   "widgets": {}
  },
  "kernelspec": {
   "display_name": "Python (my_env)",
   "language": "python",
   "name": "my_env"
  },
  "language_info": {
   "name": "python"
  }
 },
 "nbformat": 4,
 "nbformat_minor": 0
}

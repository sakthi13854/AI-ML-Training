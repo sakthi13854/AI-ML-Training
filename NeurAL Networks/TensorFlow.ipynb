{
  "nbformat": 4,
  "nbformat_minor": 0,
  "metadata": {
    "colab": {
      "provenance": []
    },
    "kernelspec": {
      "name": "python3",
      "display_name": "Python 3"
    },
    "language_info": {
      "name": "python"
    }
  },
  "cells": [
    {
      "cell_type": "code",
      "execution_count": null,
      "metadata": {
        "colab": {
          "base_uri": "https://localhost:8080/"
        },
        "id": "FZkU_izDwAvZ",
        "outputId": "6b837c92-52ae-41b5-f618-08843fc759cd"
      },
      "outputs": [
        {
          "output_type": "stream",
          "name": "stdout",
          "text": [
            "tensorflow 2.18.0\n"
          ]
        }
      ],
      "source": [
        "import tensorflow as tf\n",
        "print('tensorflow',format(tf.__version__))\n"
      ]
    },
    {
      "cell_type": "code",
      "source": [
        "d0=tf.constant(1)\n",
        "print(\"Dimension is\",tf.rank(d0).numpy())\n",
        "print(d0)"
      ],
      "metadata": {
        "colab": {
          "base_uri": "https://localhost:8080/"
        },
        "id": "lzNSmMy4wWf7",
        "outputId": "9d7dd39e-eec6-4c60-fba1-55dc19112da9"
      },
      "execution_count": null,
      "outputs": [
        {
          "output_type": "stream",
          "name": "stdout",
          "text": [
            "Dimension is 0\n",
            "tf.Tensor(1, shape=(), dtype=int32)\n"
          ]
        }
      ]
    },
    {
      "cell_type": "code",
      "source": [
        "d1=tf.ones((2,))\n",
        "print(\"Dimension is\", tf.rank(d1).numpy())\n",
        "print(d1)"
      ],
      "metadata": {
        "colab": {
          "base_uri": "https://localhost:8080/"
        },
        "id": "38d52wTxwxId",
        "outputId": "1e70175e-90bf-44d7-98aa-4f761734e057"
      },
      "execution_count": null,
      "outputs": [
        {
          "output_type": "stream",
          "name": "stdout",
          "text": [
            "Dimension is 1\n",
            "tf.Tensor([1. 1.], shape=(2,), dtype=float32)\n"
          ]
        }
      ]
    },
    {
      "cell_type": "code",
      "source": [
        "d2 = tf.ones((2,2))\n",
        "print(\"Dimension is\", tf.rank(d2).numpy())\n",
        "print(d2)"
      ],
      "metadata": {
        "colab": {
          "base_uri": "https://localhost:8080/"
        },
        "id": "ACMVjYDxxj9y",
        "outputId": "603f836d-29d8-4223-a530-aea87ee12c23"
      },
      "execution_count": null,
      "outputs": [
        {
          "output_type": "stream",
          "name": "stdout",
          "text": [
            "Dimension is 2\n",
            "tf.Tensor(\n",
            "[[1. 1.]\n",
            " [1. 1.]], shape=(2, 2), dtype=float32)\n"
          ]
        }
      ]
    },
    {
      "cell_type": "code",
      "source": [
        "d3 =tf.ones((2,2,2))\n",
        "print(\"Dimension is\", tf.rank(d3).numpy())\n",
        "print(d3)\n"
      ],
      "metadata": {
        "colab": {
          "base_uri": "https://localhost:8080/"
        },
        "id": "GqsTzAju0UEN",
        "outputId": "fd305d4d-4353-4838-b4d9-c29def3206b1"
      },
      "execution_count": null,
      "outputs": [
        {
          "output_type": "stream",
          "name": "stdout",
          "text": [
            "Dimension is 3\n",
            "tf.Tensor(\n",
            "[[[1. 1.]\n",
            "  [1. 1.]]\n",
            "\n",
            " [[1. 1.]\n",
            "  [1. 1.]]], shape=(2, 2, 2), dtype=float32)\n"
          ]
        }
      ]
    },
    {
      "cell_type": "code",
      "source": [
        "x1 = tf.Variable(23)\n",
        "x2 = tf.Variable([ [ [0.,1.,2.], [3.,4.,5.]], [[6.,7.,8.], [9.,10.,11.]]])\n",
        "x0 =123\n",
        "x1\n"
      ],
      "metadata": {
        "colab": {
          "base_uri": "https://localhost:8080/"
        },
        "id": "WTku4gta35zQ",
        "outputId": "db4ce535-10f7-45ca-c539-33a2b95c7477"
      },
      "execution_count": null,
      "outputs": [
        {
          "output_type": "execute_result",
          "data": {
            "text/plain": [
              "<tf.Variable 'Variable:0' shape=() dtype=int32, numpy=23>"
            ]
          },
          "metadata": {},
          "execution_count": 21
        }
      ]
    },
    {
      "cell_type": "code",
      "source": [
        "x1 = tf.constant(100)\n",
        "print(x1)"
      ],
      "metadata": {
        "colab": {
          "base_uri": "https://localhost:8080/"
        },
        "id": "7-omZKU2CoXD",
        "outputId": "498d0a6f-2f52-4655-9f7b-b259675d4524"
      },
      "execution_count": null,
      "outputs": [
        {
          "output_type": "stream",
          "name": "stdout",
          "text": [
            "tf.Tensor(100, shape=(), dtype=int32)\n"
          ]
        }
      ]
    },
    {
      "cell_type": "code",
      "source": [
        "x112 =tf.reshape(x2,[1,12])\n",
        "x112\n"
      ],
      "metadata": {
        "colab": {
          "base_uri": "https://localhost:8080/"
        },
        "id": "HF7l6leQCrov",
        "outputId": "92f3b752-91c6-4c77-a762-b4b5532c437f"
      },
      "execution_count": null,
      "outputs": [
        {
          "output_type": "execute_result",
          "data": {
            "text/plain": [
              "<tf.Tensor: shape=(1, 12), dtype=float32, numpy=\n",
              "array([[ 0.,  1.,  2.,  3.,  4.,  5.,  6.,  7.,  8.,  9., 10., 11.]],\n",
              "      dtype=float32)>"
            ]
          },
          "metadata": {},
          "execution_count": 24
        }
      ]
    },
    {
      "cell_type": "code",
      "source": [
        "xf64 =tf.Variable(202,dtype=tf.float64)\n",
        "xf64.dtype\n",
        "xf64.numpy()"
      ],
      "metadata": {
        "colab": {
          "base_uri": "https://localhost:8080/"
        },
        "id": "YudM5KvUC49G",
        "outputId": "2ed07e41-f45d-4d4b-f12e-281061f7de70"
      },
      "execution_count": null,
      "outputs": [
        {
          "output_type": "execute_result",
          "data": {
            "text/plain": [
              "np.float64(202.0)"
            ]
          },
          "metadata": {},
          "execution_count": 25
        }
      ]
    },
    {
      "cell_type": "code",
      "source": [
        "tf.rank(xf64)\n",
        "tf.rank(x2)\n",
        "t = tf.constant([[[1,1,1],[2,2,2]],[[4,3,5],[4,4,414]]])\n",
        "tf.rank(t).numpy()\n",
        "t.numpy()"
      ],
      "metadata": {
        "colab": {
          "base_uri": "https://localhost:8080/"
        },
        "id": "S4lxSqknC8Ki",
        "outputId": "636cc5fb-d5da-49fb-c079-9a615a36281f"
      },
      "execution_count": null,
      "outputs": [
        {
          "output_type": "execute_result",
          "data": {
            "text/plain": [
              "array([[[  1,   1,   1],\n",
              "        [  2,   2,   2]],\n",
              "\n",
              "       [[  4,   3,   5],\n",
              "        [  4,   4, 414]]], dtype=int32)"
            ]
          },
          "metadata": {},
          "execution_count": 26
        }
      ]
    },
    {
      "cell_type": "code",
      "source": [
        "tensor3 =t[1,1,2]\n",
        "tensor3"
      ],
      "metadata": {
        "colab": {
          "base_uri": "https://localhost:8080/"
        },
        "id": "pSFO78hZC_G-",
        "outputId": "efaa446e-89b0-45ce-a947-68c9c775b112"
      },
      "execution_count": null,
      "outputs": [
        {
          "output_type": "execute_result",
          "data": {
            "text/plain": [
              "<tf.Tensor: shape=(), dtype=int32, numpy=414>"
            ]
          },
          "metadata": {},
          "execution_count": 27
        }
      ]
    },
    {
      "cell_type": "code",
      "source": [
        "x= tf.constant([0,1,1,2,3,4,8,13,21,34])\n",
        "print(\"Before 4:\",x[:4].numpy())\n",
        "print(\"After 4:\",x[4:].numpy())\n",
        "print(\"From 2, before 7:\",x[2:7].numpy())\n",
        "print(\"Every other item:\",x[::2].numpy())\n",
        "print(\"Reversed:\",x[::-1].numpy())"
      ],
      "metadata": {
        "colab": {
          "base_uri": "https://localhost:8080/"
        },
        "id": "F6o3l2q_DBxQ",
        "outputId": "32f3358d-c607-4077-bb0a-e0a651cf829e"
      },
      "execution_count": null,
      "outputs": [
        {
          "output_type": "stream",
          "name": "stdout",
          "text": [
            "Before 4: [0 1 1 2]\n",
            "After 4: [ 3  4  8 13 21 34]\n",
            "From 2, before 7: [1 2 3 4 8]\n",
            "Every other item: [ 0  1  3  8 21]\n",
            "Reversed: [34 21 13  8  4  3  2  1  1  0]\n"
          ]
        }
      ]
    },
    {
      "cell_type": "code",
      "source": [
        "a =tf.constant([[1,2],[3,4]])\n",
        "i= tf.cast(a,dtype=tf.float32)\n",
        "print(a)\n",
        "print(i)"
      ],
      "metadata": {
        "colab": {
          "base_uri": "https://localhost:8080/"
        },
        "id": "xmncZ8w1DPe5",
        "outputId": "3eceb397-9d0c-47c4-9256-244c2ff0f292"
      },
      "execution_count": null,
      "outputs": [
        {
          "output_type": "stream",
          "name": "stdout",
          "text": [
            "tf.Tensor(\n",
            "[[1 2]\n",
            " [3 4]], shape=(2, 2), dtype=int32)\n",
            "tf.Tensor(\n",
            "[[1. 2.]\n",
            " [3. 4.]], shape=(2, 2), dtype=float32)\n"
          ]
        }
      ]
    },
    {
      "cell_type": "code",
      "source": [
        "#Tensor Operation\n",
        "a= tf.constant([[1,2],[3,4]])\n",
        "b= tf.constant([[5,6],[7,8]])\n",
        "c = a +b\n",
        "a.numpy()\n",
        "b.numpy()\n",
        "print(a)\n",
        "print(b)\n",
        "print(\"\\n output of c\",c)\n",
        "d =tf.square(c)\n",
        "print(d)\n",
        "tf.add(a,b)\n",
        "tf.subtract(b,a)\n",
        "e= a*b\n",
        "print(6)\n",
        "tf.multiply(a,b) # No of columns in a == No of Rows in b tensor"
      ],
      "metadata": {
        "colab": {
          "base_uri": "https://localhost:8080/"
        },
        "id": "Poi_s3taDSX0",
        "outputId": "5e8a9c85-e25e-440e-f1c0-0bd53f414949"
      },
      "execution_count": null,
      "outputs": [
        {
          "output_type": "stream",
          "name": "stdout",
          "text": [
            "tf.Tensor(\n",
            "[[1 2]\n",
            " [3 4]], shape=(2, 2), dtype=int32)\n",
            "tf.Tensor(\n",
            "[[5 6]\n",
            " [7 8]], shape=(2, 2), dtype=int32)\n",
            "\n",
            " output of c tf.Tensor(\n",
            "[[ 6  8]\n",
            " [10 12]], shape=(2, 2), dtype=int32)\n",
            "tf.Tensor(\n",
            "[[ 36  64]\n",
            " [100 144]], shape=(2, 2), dtype=int32)\n",
            "6\n"
          ]
        },
        {
          "output_type": "execute_result",
          "data": {
            "text/plain": [
              "<tf.Tensor: shape=(2, 2), dtype=int32, numpy=\n",
              "array([[ 5, 12],\n",
              "       [21, 32]], dtype=int32)>"
            ]
          },
          "metadata": {},
          "execution_count": 30
        }
      ]
    },
    {
      "cell_type": "code",
      "source": [],
      "metadata": {
        "id": "rEMoPEWZDZAd"
      },
      "execution_count": null,
      "outputs": []
    }
  ]
}
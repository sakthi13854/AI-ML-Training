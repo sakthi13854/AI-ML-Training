{
 "cells": [
  {
   "cell_type": "code",
   "execution_count": 1,
   "id": "6b98a067-5277-4c83-bf53-f2cd29378e64",
   "metadata": {},
   "outputs": [],
   "source": [
    "from transformers import AutoTokenizer, AutoModel\n",
    "import torch\n",
    "from sklearn.metrics.pairwise import cosine_similarity"
   ]
  },
  {
   "cell_type": "code",
   "execution_count": 2,
   "id": "36da77f4-7601-491d-8eee-c7087c0db513",
   "metadata": {},
   "outputs": [],
   "source": [
    "tokenizer = AutoTokenizer.from_pretrained(\"bert-base-uncased\")\n",
    "model = AutoModel.from_pretrained(\"bert-base-uncased\")"
   ]
  },
  {
   "cell_type": "code",
   "execution_count": 3,
   "id": "f0d38b3f-8e70-4e85-973a-1f1e3c0a4bad",
   "metadata": {},
   "outputs": [],
   "source": [
    "faq_sentences = [\n",
    " \"How can I reset my password?\",\n",
    " \"Where is the library located?\",\n",
    " \"What is Artificial Intelligence?\",\n",
    " \"How to apply for a scholarship?\",\n",
    " \"What are the cafeteria opening hours?\"\n",
    "]"
   ]
  },
  {
   "cell_type": "code",
   "execution_count": 5,
   "id": "9a599cd4-ab5f-46af-954e-4a96d89f020e",
   "metadata": {},
   "outputs": [],
   "source": [
    "def get_embedding(sentence):\n",
    " inputs = tokenizer(sentence, return_tensors=\"pt\",truncation=True, padding=True)\n",
    " with torch.no_grad():\n",
    "    outputs = model(**inputs)\n",
    "    return outputs.last_hidden_state.mean(dim=1).numpy()"
   ]
  },
  {
   "cell_type": "code",
   "execution_count": 6,
   "id": "f1cee0bb-e614-4c24-8aea-69b2c7096162",
   "metadata": {},
   "outputs": [],
   "source": [
    "faq_embeddings = [get_embedding(sent) for sent in faq_sentences]"
   ]
  },
  {
   "cell_type": "code",
   "execution_count": 7,
   "id": "f30826c4-55dd-42cc-be1f-b9718d491ab3",
   "metadata": {},
   "outputs": [],
   "source": [
    "query = \"what is AI\"\n",
    "query_embedding = get_embedding(query)"
   ]
  },
  {
   "cell_type": "code",
   "execution_count": 10,
   "id": "33637772-07da-4ffd-8e40-d6b76e3490b3",
   "metadata": {},
   "outputs": [],
   "source": [
    "similarities = [cosine_similarity(query_embedding, emb)[0][0] for emb in faq_embeddings]"
   ]
  },
  {
   "cell_type": "code",
   "execution_count": 11,
   "id": "1108755f-241d-45f4-bc8f-ff7cc7db93b8",
   "metadata": {},
   "outputs": [
    {
     "name": "stdout",
     "output_type": "stream",
     "text": [
      "Student Question: what is AI\n",
      "Most Similar FAQ: What is Artificial Intelligence?\n"
     ]
    }
   ],
   "source": [
    "best_match_index = similarities.index(max(similarities))\n",
    "print(f\"Student Question: {query}\")\n",
    "print(f\"Most Similar FAQ: {faq_sentences[best_match_index]}\")"
   ]
  },
  {
   "cell_type": "code",
   "execution_count": 12,
   "id": "13363832-c30e-4519-bef6-1e465d38bd41",
   "metadata": {},
   "outputs": [],
   "source": [
    "#for cricketers name\n",
    "cricketers = {\n",
    " \"MS Dhoni\": \"India\",\n",
    " \"Virat Kohli\": \"India\",\n",
    " \"Ricky Ponting\": \"Australia\",\n",
    " \"Steve Smith\": \"Australia\",\n",
    " \"Kane Williamson\": \"New Zealand\",\n",
    " \"Joe Root\": \"England\"\n",
    "}"
   ]
  },
  {
   "cell_type": "code",
   "execution_count": 13,
   "id": "9ac31f2a-2dbf-4c0a-ba4b-3ded720767b1",
   "metadata": {},
   "outputs": [],
   "source": [
    "def get_embedding(text):\n",
    " inputs = tokenizer(text, return_tensors=\"pt\", truncation=True,padding=True)\n",
    " with torch.no_grad():\n",
    "     outputs = model(**inputs)\n",
    "     return outputs.last_hidden_state.mean(dim=1).numpy()"
   ]
  },
  {
   "cell_type": "code",
   "execution_count": 14,
   "id": "51bdc5fa-08af-4dc9-a2c6-3766fb94e66d",
   "metadata": {},
   "outputs": [],
   "source": [
    "def check_country_similarity(player, country):\n",
    " player_emb = get_embedding(player)\n",
    " country_emb = get_embedding(country)\n",
    " similarity_score = cosine_similarity(player_emb,country_emb)[0][0]\n",
    " return similarity_score"
   ]
  },
  {
   "cell_type": "code",
   "execution_count": 15,
   "id": "e2f91b1a-ded3-45cf-95f5-66bf948ea657",
   "metadata": {},
   "outputs": [],
   "source": [
    "test_cases = [\n",
    " (\"MS Dhoni\", \"India\"),\n",
    " (\"MS Dhoni\", \"Australia\"),\n",
    " (\"Ricky Ponting\", \"Australia\"),\n",
    " (\"Virat Kohli\", \"India\"),\n",
    " (\"Kane Williamson\", \"New Zealand\"),\n",
    " (\"Joe Root\", \"India\")\n",
    "]"
   ]
  },
  {
   "cell_type": "code",
   "execution_count": 19,
   "id": "88bc1bae-a7d8-4d5d-9e68-816265395183",
   "metadata": {},
   "outputs": [
    {
     "name": "stdout",
     "output_type": "stream",
     "text": [
      "MS Dhoni - India | Similarity: 0.64 | MATCH \n",
      "MS Dhoni - Australia | Similarity: 0.58 | MATCH \n",
      "Ricky Ponting - Australia | Similarity: 0.55 | MATCH \n",
      "Virat Kohli - India | Similarity: 0.53 | NO MATCH \n",
      "Kane Williamson - New Zealand | Similarity: 0.55 | MATCH \n",
      "Joe Root - India | Similarity: 0.68 | MATCH \n"
     ]
    }
   ],
   "source": [
    "threshold = 0.53 # You can adjust this\n",
    "for player, country in test_cases:\n",
    " score = check_country_similarity(player, country)\n",
    " match = \"MATCH \" if score >= threshold else \"NO MATCH \"\n",
    " print(f\"{player} - {country} | Similarity: {score:.2f} | {match}\")"
   ]
  },
  {
   "cell_type": "code",
   "execution_count": null,
   "id": "8cf51c5b-d7ce-4509-9926-d4864fa47875",
   "metadata": {},
   "outputs": [],
   "source": []
  }
 ],
 "metadata": {
  "kernelspec": {
   "display_name": "Python (my_env)",
   "language": "python",
   "name": "my_env"
  },
  "language_info": {
   "codemirror_mode": {
    "name": "ipython",
    "version": 3
   },
   "file_extension": ".py",
   "mimetype": "text/x-python",
   "name": "python",
   "nbconvert_exporter": "python",
   "pygments_lexer": "ipython3",
   "version": "3.11.11"
  }
 },
 "nbformat": 4,
 "nbformat_minor": 5
}

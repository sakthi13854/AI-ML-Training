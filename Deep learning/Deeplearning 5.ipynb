{
 "cells": [
  {
   "cell_type": "code",
   "execution_count": 3,
   "id": "83e62375-34cb-48e4-8b6d-4b5e73651575",
   "metadata": {},
   "outputs": [
    {
     "name": "stdout",
     "output_type": "stream",
     "text": [
      "Creating new Ultralytics Settings v0.0.6 file  \n",
      "View Ultralytics Settings with 'yolo settings' or at 'C:\\Users\\Sakthi\\AppData\\Roaming\\Ultralytics\\settings.json'\n",
      "Update Settings with 'yolo settings key=value', i.e. 'yolo settings runs_dir=path/to/dir'. For help see https://docs.ultralytics.com/quickstart/#ultralytics-settings.\n"
     ]
    }
   ],
   "source": [
    "import argparse\n",
    "import cv2\n",
    "from ultralytics import YOLO\n",
    "import time\n",
    "\n"
   ]
  },
  {
   "cell_type": "code",
   "execution_count": 4,
   "id": "b8320e15-714e-4623-a711-f01ba3c594d3",
   "metadata": {},
   "outputs": [],
   "source": [
    "def parse_args():\n",
    " p = argparse.ArgumentParser()\n",
    " p.add_argument(\"--model\", type=str, default=\"yolov8n.pt\",help=\"Path to YOLOv8 *.pt model\")\n",
    " p.add_argument(\"--device\", type=str, default=\"\", help=\"CUDAdevice like '0' or '0,1' or 'cpu' (auto if empty)\")\n",
    " p.add_argument(\"--source\", type=int, default=0,help=\"Webcam index (default 0)\")\n",
    " p.add_argument(\"--conf\", type=float, default=0.25,help=\"Confidence threshold\")\n",
    " p.add_argument(\"--show-fps\", action=\"store_true\",help=\"Overlay FPS counter\")\n",
    " return p.parse_args()\n"
   ]
  },
  {
   "cell_type": "code",
   "execution_count": 19,
   "id": "17da9616-96d0-4e68-912f-9bfa2086d638",
   "metadata": {},
   "outputs": [],
   "source": [
    "def main():\n",
    " args = parse_args()\n",
    " model = YOLO(args.model)\n",
    " cap = cv2.VideoCapture(args.source)\n",
    " if not cap.isOpened():\n",
    "     raise RuntimeError(f\"Cannot open webcam index{args.source}\")\n",
    " prev = time.time()\n",
    " fps = 0\n",
    " while True:\n",
    "     ok, frame = cap.read()\n",
    "     if not ok:\n",
    "         break\n",
    "     results = model.predict(source=frame, conf=args.conf,\n",
    "     verbose=False, device=args.device)\n",
    "     annotated = results[0].plot() \n",
    "     if args.show_fps:\n",
    "         now = time.time()\n",
    "         dt = now - prev\n",
    "         prev = now\n",
    "         if dt > 0:\n",
    "             fps = 0.9 * fps + 0.1 * (1.0 / dt) if fps > 0 else (1.0 / dt)\n",
    "             cv2.putText(annotated, f\"FPS: {fps:.1f}\", (10, 30),\n",
    "             cv2.FONT_HERSHEY_SIMPLEX, 1, (0, 255, 0),2, cv2.LINE_AA)\n",
    "             cv2.imshow(\"YOLOv8 Webcam\", annotated)\n",
    "             if cv2.waitKey(1) & 0xFF == ord('q'):\n",
    "                break\n",
    "        \n",
    "             cap.release()\n",
    "             cv2.destroyAllWindows()\n",
    "\n"
   ]
  },
  {
   "cell_type": "code",
   "execution_count": 20,
   "id": "85bbe820-7c5d-4820-861d-11820077dacd",
   "metadata": {},
   "outputs": [
    {
     "name": "stderr",
     "output_type": "stream",
     "text": [
      "usage: ipykernel_launcher.py [-h] [--model MODEL] [--device DEVICE] [--source SOURCE] [--conf CONF] [--show-fps]\n",
      "ipykernel_launcher.py: error: unrecognized arguments: -f C:\\Users\\Sakthi\\AppData\\Roaming\\jupyter\\runtime\\kernel-90ca2314-b068-4484-99e7-24f67dc208de.json\n"
     ]
    },
    {
     "ename": "SystemExit",
     "evalue": "2",
     "output_type": "error",
     "traceback": [
      "An exception has occurred, use %tb to see the full traceback.\n",
      "\u001b[31mSystemExit\u001b[39m\u001b[31m:\u001b[39m 2\n"
     ]
    },
    {
     "name": "stderr",
     "output_type": "stream",
     "text": [
      "C:\\Users\\Sakthi\\AppData\\Local\\Packages\\PythonSoftwareFoundation.Python.3.11_qbz5n2kfra8p0\\LocalCache\\local-packages\\Python311\\site-packages\\IPython\\core\\interactiveshell.py:3557: UserWarning: To exit: use 'exit', 'quit', or Ctrl-D.\n",
      "  warn(\"To exit: use 'exit', 'quit', or Ctrl-D.\", stacklevel=1)\n"
     ]
    }
   ],
   "source": [
    "if __name__ == \"__main__\":\n",
    " main()"
   ]
  },
  {
   "cell_type": "code",
   "execution_count": null,
   "id": "8426af60-09c0-4415-8504-b6c43f15fd99",
   "metadata": {},
   "outputs": [],
   "source": []
  }
 ],
 "metadata": {
  "kernelspec": {
   "display_name": "Python (my_env)",
   "language": "python",
   "name": "my_env"
  },
  "language_info": {
   "codemirror_mode": {
    "name": "ipython",
    "version": 3
   },
   "file_extension": ".py",
   "mimetype": "text/x-python",
   "name": "python",
   "nbconvert_exporter": "python",
   "pygments_lexer": "ipython3",
   "version": "3.11.11"
  }
 },
 "nbformat": 4,
 "nbformat_minor": 5
}

{
 "cells": [
  {
   "cell_type": "code",
   "execution_count": 3,
   "id": "8b79c139-00fb-43d1-a197-ce35ba88a8e4",
   "metadata": {},
   "outputs": [],
   "source": [
    "import numpy as np\n",
    "import pandas as pd\n",
    "import seaborn as sns\n",
    "from sklearn.model_selection import train_test_split\n",
    "from sklearn.pipeline import Pipeline\n",
    "from sklearn.compose import ColumnTransformer\n",
    "from sklearn.impute import SimpleImputer\n",
    "from sklearn.preprocessing import StandardScaler, OneHotEncoder\n",
    "from sklearn.tree import DecisionTreeClassifier\n",
    "from sklearn.ensemble import RandomForestClassifier\n",
    "from sklearn.linear_model import LogisticRegression\n",
    "from sklearn.metrics import accuracy_score, classification_report,confusion_matrix"
   ]
  },
  {
   "cell_type": "code",
   "execution_count": 4,
   "id": "6ee606c6-8bbb-4053-a0c5-548cce39adb4",
   "metadata": {},
   "outputs": [],
   "source": [
    "df = sns.load_dataset('tips')\n",
    "\n",
    "X = df.drop('total_bill', axis=1)\n",
    "y = df['total_bill'] > df['total_bill'].median() \n",
    "X_train, X_test, y_train, y_test = train_test_split(X, y, test_size=0.2,\n",
    "random_state=42)\n",
    "\n"
   ]
  },
  {
   "cell_type": "code",
   "execution_count": 5,
   "id": "4553adf3-3336-475e-82ff-c6ff0443c431",
   "metadata": {},
   "outputs": [],
   "source": [
    "categorical_cols = X.select_dtypes(include='object').columns.tolist()\n",
    "numerical_cols = X.select_dtypes(include=['int64',\n",
    "'float64']).columns.tolist()"
   ]
  },
  {
   "cell_type": "code",
   "execution_count": 6,
   "id": "0362f90c-0af0-4ffc-b54d-7c29b47962a9",
   "metadata": {},
   "outputs": [],
   "source": [
    "numeric_preprocessor = Pipeline([\n",
    " ('imputer', SimpleImputer(strategy='mean')),\n",
    " ('scaler', StandardScaler())\n",
    "])"
   ]
  },
  {
   "cell_type": "code",
   "execution_count": 7,
   "id": "192c6df4-4ee8-4f49-821f-3d469dcbf56b",
   "metadata": {},
   "outputs": [],
   "source": [
    "categorical_preprocessor = Pipeline([\n",
    " ('imputer', SimpleImputer(strategy='constant', fill_value='missing')),\n",
    " ('encoder', OneHotEncoder(handle_unknown='ignore'))\n",
    "])\n"
   ]
  },
  {
   "cell_type": "code",
   "execution_count": 8,
   "id": "19f436d4-3abd-4706-8bbe-b3ba7c837f01",
   "metadata": {},
   "outputs": [],
   "source": [
    "preprocessor = ColumnTransformer([\n",
    " ('num', numeric_preprocessor, numerical_cols),\n",
    " ('cat', categorical_preprocessor, categorical_cols)\n",
    "])"
   ]
  },
  {
   "cell_type": "code",
   "execution_count": 9,
   "id": "a1cc50c0-8a39-4851-a71a-3e18afd8e903",
   "metadata": {},
   "outputs": [],
   "source": [
    "models = {\n",
    " 'Decision Tree': DecisionTreeClassifier(),\n",
    " 'Random Forest': RandomForestClassifier(),\n",
    " 'Logistic Regression': LogisticRegression(max_iter=200)\n",
    "}\n"
   ]
  },
  {
   "cell_type": "code",
   "execution_count": 10,
   "id": "9805d6ef-7f56-4e8d-8e5b-57e557094d21",
   "metadata": {},
   "outputs": [
    {
     "name": "stdout",
     "output_type": "stream",
     "text": [
      "\n",
      "Training Model: Decision Tree\n",
      "\n",
      "Training Model: Random Forest\n",
      "\n",
      "Training Model: Logistic Regression\n"
     ]
    }
   ],
   "source": [
    "results = {}\n",
    "\n",
    "for name, model in models.items():\n",
    " print(f\"\\nTraining Model: {name}\")\n",
    "\n",
    " # Create pipeline\n",
    " pipe = Pipeline(steps=[\n",
    " ('preprocessor', preprocessor),\n",
    " ('classifier', model)\n",
    " ])\n"
   ]
  },
  {
   "cell_type": "code",
   "execution_count": 19,
   "id": "167279e0-026a-4211-a762-87bd38ea084f",
   "metadata": {},
   "outputs": [],
   "source": [
    "pipe.fit(X_train, y_train)\n",
    "\n",
    "\n",
    "train_pred = pipe.predict(X_train)\n",
    "test_pred = pipe.predict(X_test)\n",
    "\n",
    "train_acc = accuracy_score(y_train, train_pred)\n",
    "pipe.fit(X_train, y_train)\n",
    "\n",
    " \n",
    "train_pred = pipe.predict(X_train)\n",
    "test_pred = pipe.predict(X_test)\n",
    "\n",
    "train_acc = accuracy_score(y_train, train_pred)"
   ]
  },
  {
   "cell_type": "code",
   "execution_count": 20,
   "id": "39a5a798-9460-4dca-bf1e-70a379c38359",
   "metadata": {},
   "outputs": [
    {
     "name": "stdout",
     "output_type": "stream",
     "text": [
      "\n",
      "MODEL PERFORMANCE SUMMARY:\n"
     ]
    }
   ],
   "source": [
    "print(\"\\nMODEL PERFORMANCE SUMMARY:\")\n",
    "for name, info in results.items():\n",
    " print(f\"\\n=== {name} ===\")\n",
    " print(f\"Training Accuracy: {info['train_accuracy']:.4f}\")\n",
    " print(f\"Testing Accuracy: {info['test_accuracy']:.4f}\")\n",
    " print(\"Confusion Matrix (Test):\")\n",
    " print(info['confusion_matrix'])\n",
    " print(\"Classification Report (Test):\")\n",
    " print(info['classification_report'])\n"
   ]
  },
  {
   "cell_type": "code",
   "execution_count": 17,
   "id": "577bf237-0ee7-44bc-9c2a-c33a44d8f5d1",
   "metadata": {},
   "outputs": [
    {
     "ename": "ValueError",
     "evalue": "max() arg is an empty sequence",
     "output_type": "error",
     "traceback": [
      "\u001b[31m---------------------------------------------------------------------------\u001b[39m",
      "\u001b[31mValueError\u001b[39m                                Traceback (most recent call last)",
      "\u001b[36mCell\u001b[39m\u001b[36m \u001b[39m\u001b[32mIn[17]\u001b[39m\u001b[32m, line 1\u001b[39m\n\u001b[32m----> \u001b[39m\u001b[32m1\u001b[39m best_model = \u001b[38;5;28;43mmax\u001b[39;49m\u001b[43m(\u001b[49m\u001b[43mresults\u001b[49m\u001b[43m.\u001b[49m\u001b[43mitems\u001b[49m\u001b[43m(\u001b[49m\u001b[43m)\u001b[49m\u001b[43m,\u001b[49m\u001b[43m \u001b[49m\u001b[43mkey\u001b[49m\u001b[43m=\u001b[49m\u001b[38;5;28;43;01mlambda\u001b[39;49;00m\u001b[43m \u001b[49m\u001b[43mx\u001b[49m\u001b[43m:\u001b[49m\u001b[43m \u001b[49m\u001b[43mx\u001b[49m\u001b[43m[\u001b[49m\u001b[32;43m1\u001b[39;49m\u001b[43m]\u001b[49m\u001b[43m[\u001b[49m\u001b[33;43m'\u001b[39;49m\u001b[33;43mtest_accuracy\u001b[39;49m\u001b[33;43m'\u001b[39;49m\u001b[43m]\u001b[49m\u001b[43m)\u001b[49m\n\u001b[32m      2\u001b[39m \u001b[38;5;28mprint\u001b[39m(\u001b[33mf\u001b[39m\u001b[33m\"\u001b[39m\u001b[33m/nBest Model: \u001b[39m\u001b[38;5;132;01m{\u001b[39;00mbest_model[\u001b[32m0\u001b[39m]\u001b[38;5;132;01m}\u001b[39;00m\u001b[33m with Test Accuracy:\u001b[39m\u001b[38;5;132;01m{\u001b[39;00mbest_model[\u001b[32m1\u001b[39m][\u001b[33m'\u001b[39m\u001b[33mtest_accuracy\u001b[39m\u001b[33m'\u001b[39m]\u001b[38;5;132;01m:\u001b[39;00m\u001b[33m.4f\u001b[39m\u001b[38;5;132;01m}\u001b[39;00m\u001b[33m\"\u001b[39m)\n",
      "\u001b[31mValueError\u001b[39m: max() arg is an empty sequence"
     ]
    }
   ],
   "source": [
    "best_model = max(results.items(), key=lambda x: x[1]['test_accuracy'])\n",
    "print(f\"/nBest Model: {best_model[0]} with Test Accuracy:{best_model[1]['test_accuracy']:.4f}\")"
   ]
  },
  {
   "cell_type": "code",
   "execution_count": null,
   "id": "2ecabb9c-14a8-48ac-89d5-473057fd8f71",
   "metadata": {},
   "outputs": [],
   "source": []
  },
  {
   "cell_type": "code",
   "execution_count": null,
   "id": "4b6ae93b-97c6-46d8-be37-f22107817ee6",
   "metadata": {},
   "outputs": [],
   "source": []
  }
 ],
 "metadata": {
  "kernelspec": {
   "display_name": "Python (my_env)",
   "language": "python",
   "name": "my_env"
  },
  "language_info": {
   "codemirror_mode": {
    "name": "ipython",
    "version": 3
   },
   "file_extension": ".py",
   "mimetype": "text/x-python",
   "name": "python",
   "nbconvert_exporter": "python",
   "pygments_lexer": "ipython3",
   "version": "3.11.11"
  }
 },
 "nbformat": 4,
 "nbformat_minor": 5
}

{
 "cells": [
  {
   "cell_type": "code",
   "execution_count": 0,
   "metadata": {
    "application/vnd.databricks.v1+cell": {
     "cellMetadata": {},
     "inputWidgets": {},
     "nuid": "6dd18bbc-dba0-4d68-9601-f0477e848a58",
     "showTitle": false,
     "tableResultSettingsMap": {},
     "title": ""
    }
   },
   "outputs": [],
   "source": [
    "import requests \n",
    "from bs4 import BeautifulSoup\n",
    "import pandas as pd\n",
    "import matplotlib.pyplot as plt\n",
    "import seaborn as sns\n"
   ]
  },
  {
   "cell_type": "code",
   "execution_count": 0,
   "metadata": {
    "application/vnd.databricks.v1+cell": {
     "cellMetadata": {},
     "inputWidgets": {},
     "nuid": "ee802304-d1f4-422c-972b-c1bddd09ece6",
     "showTitle": false,
     "tableResultSettingsMap": {},
     "title": ""
    }
   },
   "outputs": [],
   "source": [
    "URL=\"https://books.toscrape.com/\"\n"
   ]
  },
  {
   "cell_type": "code",
   "execution_count": 0,
   "metadata": {
    "application/vnd.databricks.v1+cell": {
     "cellMetadata": {},
     "inputWidgets": {},
     "nuid": "7eed6488-3ef7-424f-97ce-58f05d2a072a",
     "showTitle": false,
     "tableResultSettingsMap": {},
     "title": ""
    }
   },
   "outputs": [],
   "source": []
  },
  {
   "cell_type": "code",
   "execution_count": 0,
   "metadata": {
    "application/vnd.databricks.v1+cell": {
     "cellMetadata": {},
     "inputWidgets": {},
     "nuid": "cca35ac4-9d8e-4ead-bf37-1c42436e35dd",
     "showTitle": false,
     "tableResultSettingsMap": {},
     "title": ""
    }
   },
   "outputs": [],
   "source": [
    "responses=requests.get(URL)"
   ]
  },
  {
   "cell_type": "code",
   "execution_count": 0,
   "metadata": {
    "application/vnd.databricks.v1+cell": {
     "cellMetadata": {},
     "inputWidgets": {},
     "nuid": "8e146991-c01b-4a38-aec3-29ad02eaa668",
     "showTitle": false,
     "tableResultSettingsMap": {},
     "title": ""
    }
   },
   "outputs": [
    {
     "output_type": "stream",
     "name": "stdout",
     "output_type": "stream",
     "text": [
      "Title: A Light in the Attic\nPrice:Â£51.77\n\nTitle: Tipping the Velvet\nPrice:Â£53.74\n\nTitle: Soumission\nPrice:Â£50.10\n\nTitle: Sharp Objects\nPrice:Â£47.82\n\nTitle: Sapiens: A Brief History of Humankind\nPrice:Â£54.23\n\nTitle: The Requiem Red\nPrice:Â£22.65\n\nTitle: The Dirty Little Secrets of Getting Your Dream Job\nPrice:Â£33.34\n\nTitle: The Coming Woman: A Novel Based on the Life of the Infamous Feminist, Victoria Woodhull\nPrice:Â£17.93\n\nTitle: The Boys in the Boat: Nine Americans and Their Epic Quest for Gold at the 1936 Berlin Olympics\nPrice:Â£22.60\n\nTitle: The Black Maria\nPrice:Â£52.15\n\nTitle: Starving Hearts (Triangular Trade Trilogy, #1)\nPrice:Â£13.99\n\nTitle: Shakespeare's Sonnets\nPrice:Â£20.66\n\nTitle: Set Me Free\nPrice:Â£17.46\n\nTitle: Scott Pilgrim's Precious Little Life (Scott Pilgrim #1)\nPrice:Â£52.29\n\nTitle: Rip it Up and Start Again\nPrice:Â£35.02\n\nTitle: Our Band Could Be Your Life: Scenes from the American Indie Underground, 1981-1991\nPrice:Â£57.25\n\nTitle: Olio\nPrice:Â£23.88\n\nTitle: Mesaerion: The Best Science Fiction Stories 1800-1849\nPrice:Â£37.59\n\nTitle: Libertarianism for Beginners\nPrice:Â£51.33\n\nTitle: It's Only the Himalayas\nPrice:Â£45.17\n\n"
     ]
    }
   ],
   "source": [
    "soup=BeautifulSoup(responses.text,'html.parser')\n",
    "books = soup.find_all('article', class_='product_pod')\n",
    "book_data = []\n",
    "for book in books:\n",
    "    title = book.h3.a['title']\n",
    "    price = book.find('p', class_='price_color').text\n",
    "    print(f\"Title: {title}\\nPrice:{price}\\n\")\n",
    "    book_data.append({\"Title\": title, \"price\": price})\n",
    "\n",
    "\n",
    "\n"
   ]
  },
  {
   "cell_type": "code",
   "execution_count": 0,
   "metadata": {
    "application/vnd.databricks.v1+cell": {
     "cellMetadata": {},
     "inputWidgets": {},
     "nuid": "c660bf0d-8d40-4cce-9c30-d43de707e578",
     "showTitle": false,
     "tableResultSettingsMap": {},
     "title": ""
    }
   },
   "outputs": [
    {
     "output_type": "execute_result",
     "data": {
      "text/html": [
       "<div>\n",
       "<style scoped>\n",
       "    .dataframe tbody tr th:only-of-type {\n",
       "        vertical-align: middle;\n",
       "    }\n",
       "\n",
       "    .dataframe tbody tr th {\n",
       "        vertical-align: top;\n",
       "    }\n",
       "\n",
       "    .dataframe thead th {\n",
       "        text-align: right;\n",
       "    }\n",
       "</style>\n",
       "<table border=\"1\" class=\"dataframe\">\n",
       "  <thead>\n",
       "    <tr style=\"text-align: right;\">\n",
       "      <th></th>\n",
       "      <th>Title</th>\n",
       "      <th>price</th>\n",
       "    </tr>\n",
       "  </thead>\n",
       "  <tbody>\n",
       "    <tr>\n",
       "      <th>0</th>\n",
       "      <td>A Light in the Attic</td>\n",
       "      <td>Â£51.77</td>\n",
       "    </tr>\n",
       "    <tr>\n",
       "      <th>1</th>\n",
       "      <td>Tipping the Velvet</td>\n",
       "      <td>Â£53.74</td>\n",
       "    </tr>\n",
       "    <tr>\n",
       "      <th>2</th>\n",
       "      <td>Soumission</td>\n",
       "      <td>Â£50.10</td>\n",
       "    </tr>\n",
       "    <tr>\n",
       "      <th>3</th>\n",
       "      <td>Sharp Objects</td>\n",
       "      <td>Â£47.82</td>\n",
       "    </tr>\n",
       "    <tr>\n",
       "      <th>4</th>\n",
       "      <td>Sapiens: A Brief History of Humankind</td>\n",
       "      <td>Â£54.23</td>\n",
       "    </tr>\n",
       "    <tr>\n",
       "      <th>5</th>\n",
       "      <td>The Requiem Red</td>\n",
       "      <td>Â£22.65</td>\n",
       "    </tr>\n",
       "    <tr>\n",
       "      <th>6</th>\n",
       "      <td>The Dirty Little Secrets of Getting Your Dream...</td>\n",
       "      <td>Â£33.34</td>\n",
       "    </tr>\n",
       "    <tr>\n",
       "      <th>7</th>\n",
       "      <td>The Coming Woman: A Novel Based on the Life of...</td>\n",
       "      <td>Â£17.93</td>\n",
       "    </tr>\n",
       "    <tr>\n",
       "      <th>8</th>\n",
       "      <td>The Boys in the Boat: Nine Americans and Their...</td>\n",
       "      <td>Â£22.60</td>\n",
       "    </tr>\n",
       "    <tr>\n",
       "      <th>9</th>\n",
       "      <td>The Black Maria</td>\n",
       "      <td>Â£52.15</td>\n",
       "    </tr>\n",
       "    <tr>\n",
       "      <th>10</th>\n",
       "      <td>Starving Hearts (Triangular Trade Trilogy, #1)</td>\n",
       "      <td>Â£13.99</td>\n",
       "    </tr>\n",
       "    <tr>\n",
       "      <th>11</th>\n",
       "      <td>Shakespeare's Sonnets</td>\n",
       "      <td>Â£20.66</td>\n",
       "    </tr>\n",
       "    <tr>\n",
       "      <th>12</th>\n",
       "      <td>Set Me Free</td>\n",
       "      <td>Â£17.46</td>\n",
       "    </tr>\n",
       "    <tr>\n",
       "      <th>13</th>\n",
       "      <td>Scott Pilgrim's Precious Little Life (Scott Pi...</td>\n",
       "      <td>Â£52.29</td>\n",
       "    </tr>\n",
       "    <tr>\n",
       "      <th>14</th>\n",
       "      <td>Rip it Up and Start Again</td>\n",
       "      <td>Â£35.02</td>\n",
       "    </tr>\n",
       "    <tr>\n",
       "      <th>15</th>\n",
       "      <td>Our Band Could Be Your Life: Scenes from the A...</td>\n",
       "      <td>Â£57.25</td>\n",
       "    </tr>\n",
       "    <tr>\n",
       "      <th>16</th>\n",
       "      <td>Olio</td>\n",
       "      <td>Â£23.88</td>\n",
       "    </tr>\n",
       "    <tr>\n",
       "      <th>17</th>\n",
       "      <td>Mesaerion: The Best Science Fiction Stories 18...</td>\n",
       "      <td>Â£37.59</td>\n",
       "    </tr>\n",
       "    <tr>\n",
       "      <th>18</th>\n",
       "      <td>Libertarianism for Beginners</td>\n",
       "      <td>Â£51.33</td>\n",
       "    </tr>\n",
       "    <tr>\n",
       "      <th>19</th>\n",
       "      <td>It's Only the Himalayas</td>\n",
       "      <td>Â£45.17</td>\n",
       "    </tr>\n",
       "  </tbody>\n",
       "</table>\n",
       "</div>"
      ],
      "text/plain": [
       "                                                Title    price\n",
       "0                                A Light in the Attic  Â£51.77\n",
       "1                                  Tipping the Velvet  Â£53.74\n",
       "2                                          Soumission  Â£50.10\n",
       "3                                       Sharp Objects  Â£47.82\n",
       "4               Sapiens: A Brief History of Humankind  Â£54.23\n",
       "5                                     The Requiem Red  Â£22.65\n",
       "6   The Dirty Little Secrets of Getting Your Dream...  Â£33.34\n",
       "7   The Coming Woman: A Novel Based on the Life of...  Â£17.93\n",
       "8   The Boys in the Boat: Nine Americans and Their...  Â£22.60\n",
       "9                                     The Black Maria  Â£52.15\n",
       "10     Starving Hearts (Triangular Trade Trilogy, #1)  Â£13.99\n",
       "11                              Shakespeare's Sonnets  Â£20.66\n",
       "12                                        Set Me Free  Â£17.46\n",
       "13  Scott Pilgrim's Precious Little Life (Scott Pi...  Â£52.29\n",
       "14                          Rip it Up and Start Again  Â£35.02\n",
       "15  Our Band Could Be Your Life: Scenes from the A...  Â£57.25\n",
       "16                                               Olio  Â£23.88\n",
       "17  Mesaerion: The Best Science Fiction Stories 18...  Â£37.59\n",
       "18                       Libertarianism for Beginners  Â£51.33\n",
       "19                            It's Only the Himalayas  Â£45.17"
      ]
     },
     "execution_count": 7,
     "metadata": {},
     "output_type": "execute_result"
    }
   ],
   "source": [
    "df=pd.DataFrame(book_data)\n",
    "df"
   ]
  },
  {
   "cell_type": "code",
   "execution_count": 0,
   "metadata": {
    "application/vnd.databricks.v1+cell": {
     "cellMetadata": {},
     "inputWidgets": {},
     "nuid": "4274818c-d46e-4e38-8c75-6ec932d4598a",
     "showTitle": false,
     "tableResultSettingsMap": {},
     "title": ""
    }
   },
   "outputs": [
    {
     "output_type": "stream",
     "name": "stdout",
     "output_type": "stream",
     "text": [
      "Title: A Light in the Attic\nPrice (GBP): £51.77\nPrice (INR): ₹5384.08\n\nTitle: Tipping the Velvet\nPrice (GBP): £53.74\nPrice (INR): ₹5588.96\n\nTitle: Soumission\nPrice (GBP): £50.10\nPrice (INR): ₹5210.40\n\nTitle: Sharp Objects\nPrice (GBP): £47.82\nPrice (INR): ₹4973.28\n\nTitle: Sapiens: A Brief History of Humankind\nPrice (GBP): £54.23\nPrice (INR): ₹5639.92\n\nTitle: The Requiem Red\nPrice (GBP): £22.65\nPrice (INR): ₹2355.60\n\nTitle: The Dirty Little Secrets of Getting Your Dream Job\nPrice (GBP): £33.34\nPrice (INR): ₹3467.36\n\nTitle: The Coming Woman: A Novel Based on the Life of the Infamous Feminist, Victoria Woodhull\nPrice (GBP): £17.93\nPrice (INR): ₹1864.72\n\nTitle: The Boys in the Boat: Nine Americans and Their Epic Quest for Gold at the 1936 Berlin Olympics\nPrice (GBP): £22.60\nPrice (INR): ₹2350.40\n\nTitle: The Black Maria\nPrice (GBP): £52.15\nPrice (INR): ₹5423.60\n\nTitle: Starving Hearts (Triangular Trade Trilogy, #1)\nPrice (GBP): £13.99\nPrice (INR): ₹1454.96\n\nTitle: Shakespeare's Sonnets\nPrice (GBP): £20.66\nPrice (INR): ₹2148.64\n\nTitle: Set Me Free\nPrice (GBP): £17.46\nPrice (INR): ₹1815.84\n\nTitle: Scott Pilgrim's Precious Little Life (Scott Pilgrim #1)\nPrice (GBP): £52.29\nPrice (INR): ₹5438.16\n\nTitle: Rip it Up and Start Again\nPrice (GBP): £35.02\nPrice (INR): ₹3642.08\n\nTitle: Our Band Could Be Your Life: Scenes from the American Indie Underground, 1981-1991\nPrice (GBP): £57.25\nPrice (INR): ₹5954.00\n\nTitle: Olio\nPrice (GBP): £23.88\nPrice (INR): ₹2483.52\n\nTitle: Mesaerion: The Best Science Fiction Stories 1800-1849\nPrice (GBP): £37.59\nPrice (INR): ₹3909.36\n\nTitle: Libertarianism for Beginners\nPrice (GBP): £51.33\nPrice (INR): ₹5338.32\n\nTitle: It's Only the Himalayas\nPrice (GBP): £45.17\nPrice (INR): ₹4697.68\n\n"
     ]
    }
   ],
   "source": [
    "conversion_rate = 104  # 1 GBP ≈ 104 INR (check current rate)\n",
    "\n",
    "for book in books:\n",
    "    title = book.h3.a['title']\n",
    "    price_gbp = book.find('p', class_='price_color').text  # e.g., \"£51.77\"\n",
    "    \n",
    "    # Clean the price string by removing unwanted characters\n",
    "    price_gbp_cleaned = price_gbp.replace('£', '').replace('Â', '').strip()\n",
    "    \n",
    "    try:\n",
    "        # Convert cleaned price to float\n",
    "        price_gbp_value = float(price_gbp_cleaned) if price_gbp_cleaned else 0.0\n",
    "        \n",
    "        # Convert to INR\n",
    "        price_inr = price_gbp_value * conversion_rate\n",
    "        \n",
    "        # Format output\n",
    "        print(f\"Title: {title}\\nPrice (GBP): £{price_gbp_value:.2f}\\nPrice (INR): ₹{price_inr:.2f}\\n\")\n",
    "        book_data.append({\n",
    "            \"Title\": title,\n",
    "            \"Price (GBP)\": f\"£{price_gbp_value:.2f}\",\n",
    "            \"Price (INR)\": f\"₹{price_inr:.2f}\"\n",
    "        })\n",
    "    except ValueError:\n",
    "        print(f\"Error converting price for '{title}': {price_gbp}\")"
   ]
  },
  {
   "cell_type": "code",
   "execution_count": 0,
   "metadata": {
    "application/vnd.databricks.v1+cell": {
     "cellMetadata": {},
     "inputWidgets": {},
     "nuid": "886b476d-6599-4c6c-b9dd-77e148a41e48",
     "showTitle": false,
     "tableResultSettingsMap": {},
     "title": ""
    }
   },
   "outputs": [],
   "source": []
  }
 ],
 "metadata": {
  "application/vnd.databricks.v1+notebook": {
   "computePreferences": null,
   "dashboards": [],
   "environmentMetadata": null,
   "inputWidgetPreferences": null,
   "language": "python",
   "notebookMetadata": {},
   "notebookName": "webscrapping",
   "widgets": {}
  },
  "kernelspec": {
   "display_name": "Python (my_env)",
   "language": "python",
   "name": "my_env"
  },
  "language_info": {
   "name": "python"
  }
 },
 "nbformat": 4,
 "nbformat_minor": 0
}
